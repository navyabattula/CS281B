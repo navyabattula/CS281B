{
 "cells": [
  {
   "cell_type": "code",
   "execution_count": 1,
   "id": "7021e70c",
   "metadata": {},
   "outputs": [],
   "source": [
    "from tensorflow import keras\n",
    "from tensorflow.keras import layers\n",
    "\n",
    "from tensorflow_docs.vis import embed\n",
    "import matplotlib.pyplot as plt\n",
    "import tensorflow as tf\n",
    "import numpy as np\n",
    "import imageio"
   ]
  },
  {
   "cell_type": "code",
   "execution_count": 2,
   "id": "7f5f5e9b",
   "metadata": {},
   "outputs": [],
   "source": [
    "batch_size = 64\n",
    "num_channels = 1\n",
    "num_classes = 10\n",
    "image_size = 28\n",
    "latent_dim = 128"
   ]
  },
  {
   "cell_type": "code",
   "execution_count": 3,
   "id": "281e6304",
   "metadata": {},
   "outputs": [
    {
     "name": "stdout",
     "output_type": "stream",
     "text": [
      "Metal device set to: Apple M1 Pro\n",
      "Shape of training images: (70000, 28, 28, 1)\n",
      "Shape of training labels: (70000, 10)\n"
     ]
    },
    {
     "name": "stderr",
     "output_type": "stream",
     "text": [
      "2022-03-03 12:00:33.757965: I tensorflow/core/common_runtime/pluggable_device/pluggable_device_factory.cc:305] Could not identify NUMA node of platform GPU ID 0, defaulting to 0. Your kernel may not have been built with NUMA support.\n",
      "2022-03-03 12:00:33.758312: I tensorflow/core/common_runtime/pluggable_device/pluggable_device_factory.cc:271] Created TensorFlow device (/job:localhost/replica:0/task:0/device:GPU:0 with 0 MB memory) -> physical PluggableDevice (device: 0, name: METAL, pci bus id: <undefined>)\n"
     ]
    }
   ],
   "source": [
    "# We'll use all the available examples from both the training and test\n",
    "# sets.\n",
    "(x_train, y_train), (x_test, y_test) = keras.datasets.mnist.load_data()\n",
    "all_digits = np.concatenate([x_train, x_test])\n",
    "all_labels = np.concatenate([y_train, y_test])\n",
    "\n",
    "# Scale the pixel values to [0, 1] range, add a channel dimension to\n",
    "# the images, and one-hot encode the labels.\n",
    "all_digits = all_digits.astype(\"float32\") / 255.0\n",
    "all_digits = np.reshape(all_digits, (-1, 28, 28, 1))\n",
    "all_labels = keras.utils.to_categorical(all_labels, 10)\n",
    "\n",
    "# Create tf.data.Dataset.\n",
    "dataset = tf.data.Dataset.from_tensor_slices((all_digits, all_labels))\n",
    "dataset = dataset.shuffle(buffer_size=1024).batch(batch_size)\n",
    "\n",
    "print(f\"Shape of training images: {all_digits.shape}\")\n",
    "print(f\"Shape of training labels: {all_labels.shape}\")"
   ]
  },
  {
   "cell_type": "code",
   "execution_count": 4,
   "id": "d9929dc1",
   "metadata": {},
   "outputs": [
    {
     "name": "stdout",
     "output_type": "stream",
     "text": [
      "138 11\n"
     ]
    }
   ],
   "source": [
    "generator_in_channels = latent_dim + num_classes\n",
    "discriminator_in_channels = num_channels + num_classes\n",
    "print(generator_in_channels, discriminator_in_channels)"
   ]
  },
  {
   "cell_type": "code",
   "execution_count": 5,
   "id": "8d8d425c",
   "metadata": {},
   "outputs": [],
   "source": [
    "# Create the discriminator.\n",
    "discriminator = keras.Sequential(\n",
    "    [\n",
    "        keras.layers.InputLayer((28, 28, discriminator_in_channels)),\n",
    "        layers.Conv2D(64, (3, 3), strides=(2, 2), padding=\"same\"),\n",
    "        layers.LeakyReLU(alpha=0.2),\n",
    "        layers.Conv2D(128, (3, 3), strides=(2, 2), padding=\"same\"),\n",
    "        layers.LeakyReLU(alpha=0.2),\n",
    "        layers.GlobalMaxPooling2D(),\n",
    "        layers.Dense(1),\n",
    "    ],\n",
    "    name=\"discriminator\",\n",
    ")\n",
    "\n",
    "# Create the generator.\n",
    "generator = keras.Sequential(\n",
    "    [\n",
    "        keras.layers.InputLayer((generator_in_channels,)),\n",
    "        # We want to generate 128 + num_classes coefficients to reshape into a\n",
    "        # 7x7x(128 + num_classes) map.\n",
    "        layers.Dense(7 * 7 * generator_in_channels),\n",
    "        layers.LeakyReLU(alpha=0.2),\n",
    "        layers.Reshape((7, 7, generator_in_channels)),\n",
    "        layers.Conv2DTranspose(128, (4, 4), strides=(2, 2), padding=\"same\"),\n",
    "        layers.LeakyReLU(alpha=0.2),\n",
    "        layers.Conv2DTranspose(128, (4, 4), strides=(2, 2), padding=\"same\"),\n",
    "        layers.LeakyReLU(alpha=0.2),\n",
    "        layers.Conv2D(1, (7, 7), padding=\"same\", activation=\"sigmoid\"),\n",
    "    ],\n",
    "    name=\"generator\",\n",
    ")"
   ]
  },
  {
   "cell_type": "code",
   "execution_count": 6,
   "id": "1d5f52c2",
   "metadata": {},
   "outputs": [],
   "source": [
    "class ConditionalGAN(keras.Model):\n",
    "    def __init__(self, discriminator, generator, latent_dim):\n",
    "        super(ConditionalGAN, self).__init__()\n",
    "        self.discriminator = discriminator\n",
    "        self.generator = generator\n",
    "        self.latent_dim = latent_dim\n",
    "        self.gen_loss_tracker = keras.metrics.Mean(name=\"generator_loss\")\n",
    "        self.disc_loss_tracker = keras.metrics.Mean(name=\"discriminator_loss\")\n",
    "\n",
    "    @property\n",
    "    def metrics(self):\n",
    "        return [self.gen_loss_tracker, self.disc_loss_tracker]\n",
    "\n",
    "    def compile(self, d_optimizer, g_optimizer, loss_fn):\n",
    "        super(ConditionalGAN, self).compile()\n",
    "        self.d_optimizer = d_optimizer\n",
    "        self.g_optimizer = g_optimizer\n",
    "        self.loss_fn = loss_fn\n",
    "\n",
    "    def train_step(self, data):\n",
    "        # Unpack the data.\n",
    "        real_images, one_hot_labels = data\n",
    "\n",
    "        # Add dummy dimensions to the labels so that they can be concatenated with\n",
    "        # the images. This is for the discriminator.\n",
    "        image_one_hot_labels = one_hot_labels[:, :, None, None]\n",
    "        image_one_hot_labels = tf.repeat(\n",
    "            image_one_hot_labels, repeats=[image_size * image_size]\n",
    "        )\n",
    "        image_one_hot_labels = tf.reshape(\n",
    "            image_one_hot_labels, (-1, image_size, image_size, num_classes)\n",
    "        )\n",
    "\n",
    "        # Sample random points in the latent space and concatenate the labels.\n",
    "        # This is for the generator.\n",
    "        batch_size = tf.shape(real_images)[0]\n",
    "        random_latent_vectors = tf.random.normal(shape=(batch_size, self.latent_dim))\n",
    "        random_vector_labels = tf.concat(\n",
    "            [random_latent_vectors, one_hot_labels], axis=1\n",
    "        )\n",
    "\n",
    "        # Decode the noise (guided by labels) to fake images.\n",
    "        generated_images = self.generator(random_vector_labels)\n",
    "\n",
    "        # Combine them with real images. Note that we are concatenating the labels\n",
    "        # with these images here.\n",
    "        fake_image_and_labels = tf.concat([generated_images, image_one_hot_labels], -1)\n",
    "        real_image_and_labels = tf.concat([real_images, image_one_hot_labels], -1)\n",
    "        combined_images = tf.concat(\n",
    "            [fake_image_and_labels, real_image_and_labels], axis=0\n",
    "        )\n",
    "\n",
    "        # Assemble labels discriminating real from fake images.\n",
    "        labels = tf.concat(\n",
    "            [tf.ones((batch_size, 1)), tf.zeros((batch_size, 1))], axis=0\n",
    "        )\n",
    "\n",
    "        # Train the discriminator.\n",
    "        with tf.GradientTape() as tape:\n",
    "            predictions = self.discriminator(combined_images)\n",
    "            d_loss = self.loss_fn(labels, predictions)\n",
    "        grads = tape.gradient(d_loss, self.discriminator.trainable_weights)\n",
    "        self.d_optimizer.apply_gradients(\n",
    "            zip(grads, self.discriminator.trainable_weights)\n",
    "        )\n",
    "\n",
    "        # Sample random points in the latent space.\n",
    "        random_latent_vectors = tf.random.normal(shape=(batch_size, self.latent_dim))\n",
    "        random_vector_labels = tf.concat(\n",
    "            [random_latent_vectors, one_hot_labels], axis=1\n",
    "        )\n",
    "\n",
    "        # Assemble labels that say \"all real images\".\n",
    "        misleading_labels = tf.zeros((batch_size, 1))\n",
    "\n",
    "        # Train the generator (note that we should *not* update the weights\n",
    "        # of the discriminator)!\n",
    "        with tf.GradientTape() as tape:\n",
    "            fake_images = self.generator(random_vector_labels)\n",
    "            fake_image_and_labels = tf.concat([fake_images, image_one_hot_labels], -1)\n",
    "            predictions = self.discriminator(fake_image_and_labels)\n",
    "            g_loss = self.loss_fn(misleading_labels, predictions)\n",
    "        grads = tape.gradient(g_loss, self.generator.trainable_weights)\n",
    "        self.g_optimizer.apply_gradients(zip(grads, self.generator.trainable_weights))\n",
    "\n",
    "        # Monitor loss.\n",
    "        self.gen_loss_tracker.update_state(g_loss)\n",
    "        self.disc_loss_tracker.update_state(d_loss)\n",
    "        return {\n",
    "            \"g_loss\": self.gen_loss_tracker.result(),\n",
    "            \"d_loss\": self.disc_loss_tracker.result(),\n",
    "        }"
   ]
  },
  {
   "cell_type": "code",
   "execution_count": 7,
   "id": "1583e988",
   "metadata": {},
   "outputs": [
    {
     "name": "stdout",
     "output_type": "stream",
     "text": [
      "Epoch 1/20\n"
     ]
    },
    {
     "name": "stderr",
     "output_type": "stream",
     "text": [
      "2022-03-03 12:02:19.942682: W tensorflow/core/platform/profile_utils/cpu_utils.cc:128] Failed to get CPU frequency: 0 Hz\n",
      "2022-03-03 12:02:19.943208: I tensorflow/core/grappler/optimizers/custom_graph_optimizer_registry.cc:113] Plugin optimizer for device_type GPU is enabled.\n"
     ]
    },
    {
     "name": "stdout",
     "output_type": "stream",
     "text": [
      "1094/1094 [==============================] - 88s 79ms/step - g_loss: 1.4154 - d_loss: 0.4379\n",
      "Epoch 2/20\n",
      "1094/1094 [==============================] - 86s 79ms/step - g_loss: 1.4486 - d_loss: 0.4513\n",
      "Epoch 3/20\n",
      "1094/1094 [==============================] - 137s 126ms/step - g_loss: 1.7011 - d_loss: 0.3861\n",
      "Epoch 4/20\n",
      "1094/1094 [==============================] - 87s 79ms/step - g_loss: 2.9823 - d_loss: 0.2130\n",
      "Epoch 5/20\n",
      "1094/1094 [==============================] - 86s 79ms/step - g_loss: 2.9455 - d_loss: 0.1438\n",
      "Epoch 6/20\n",
      "1094/1094 [==============================] - 86s 79ms/step - g_loss: 2.3683 - d_loss: 0.2829\n",
      "Epoch 7/20\n",
      "1094/1094 [==============================] - 1185s 1s/step - g_loss: 1.1697 - d_loss: 0.5782\n",
      "Epoch 8/20\n",
      "1094/1094 [==============================] - 87s 79ms/step - g_loss: 0.9440 - d_loss: 0.6385\n",
      "Epoch 9/20\n",
      "1094/1094 [==============================] - 86s 79ms/step - g_loss: 0.8272 - d_loss: 0.6747\n",
      "Epoch 10/20\n",
      "1094/1094 [==============================] - 769s 703ms/step - g_loss: 0.8001 - d_loss: 0.6766\n",
      "Epoch 11/20\n",
      "1094/1094 [==============================] - 87s 79ms/step - g_loss: 0.7850 - d_loss: 0.6788\n",
      "Epoch 12/20\n",
      "1094/1094 [==============================] - 87s 79ms/step - g_loss: 0.8058 - d_loss: 0.6790\n",
      "Epoch 13/20\n",
      "1094/1094 [==============================] - 87s 79ms/step - g_loss: 0.7683 - d_loss: 0.6853\n",
      "Epoch 14/20\n",
      "1094/1094 [==============================] - 87s 79ms/step - g_loss: 0.7408 - d_loss: 0.6882\n",
      "Epoch 15/20\n",
      "1094/1094 [==============================] - 87s 79ms/step - g_loss: 0.7551 - d_loss: 0.6882\n",
      "Epoch 16/20\n",
      "1094/1094 [==============================] - 87s 79ms/step - g_loss: 0.7438 - d_loss: 0.6833\n",
      "Epoch 17/20\n",
      "1094/1094 [==============================] - 87s 79ms/step - g_loss: 0.7521 - d_loss: 0.6822\n",
      "Epoch 18/20\n",
      "1094/1094 [==============================] - 87s 79ms/step - g_loss: 0.7490 - d_loss: 0.6817\n",
      "Epoch 19/20\n",
      "1094/1094 [==============================] - 87s 79ms/step - g_loss: 0.7556 - d_loss: 0.6765\n",
      "Epoch 20/20\n",
      "1094/1094 [==============================] - 87s 79ms/step - g_loss: 0.7561 - d_loss: 0.6762\n"
     ]
    },
    {
     "data": {
      "text/plain": [
       "<keras.callbacks.History at 0x2c44729a0>"
      ]
     },
     "execution_count": 7,
     "metadata": {},
     "output_type": "execute_result"
    }
   ],
   "source": [
    "cond_gan = ConditionalGAN(\n",
    "    discriminator=discriminator, generator=generator, latent_dim=latent_dim\n",
    ")\n",
    "cond_gan.compile(\n",
    "    d_optimizer=keras.optimizers.Adam(learning_rate=0.0003),\n",
    "    g_optimizer=keras.optimizers.Adam(learning_rate=0.0003),\n",
    "    loss_fn=keras.losses.BinaryCrossentropy(from_logits=True),\n",
    ")\n",
    "\n",
    "cond_gan.fit(dataset, epochs=20)"
   ]
  },
  {
   "cell_type": "code",
   "execution_count": 8,
   "id": "7ce5fe3e",
   "metadata": {},
   "outputs": [
    {
     "name": "stderr",
     "output_type": "stream",
     "text": [
      "2022-03-03 13:04:51.136556: I tensorflow/core/grappler/optimizers/custom_graph_optimizer_registry.cc:113] Plugin optimizer for device_type GPU is enabled.\n"
     ]
    }
   ],
   "source": [
    "# We first extract the trained generator from our Conditiona GAN.\n",
    "trained_gen = cond_gan.generator\n",
    "\n",
    "# Choose the number of intermediate images that would be generated in\n",
    "# between the interpolation + 2 (start and last images).\n",
    "num_interpolation = 9  # @param {type:\"integer\"}\n",
    "\n",
    "# Sample noise for the interpolation.\n",
    "interpolation_noise = tf.random.normal(shape=(1, latent_dim))\n",
    "interpolation_noise = tf.repeat(interpolation_noise, repeats=num_interpolation)\n",
    "interpolation_noise = tf.reshape(interpolation_noise, (num_interpolation, latent_dim))\n",
    "\n",
    "\n",
    "def interpolate_class(first_number, second_number):\n",
    "    # Convert the start and end labels to one-hot encoded vectors.\n",
    "    first_label = keras.utils.to_categorical([first_number], num_classes)\n",
    "    second_label = keras.utils.to_categorical([second_number], num_classes)\n",
    "    first_label = tf.cast(first_label, tf.float32)\n",
    "    second_label = tf.cast(second_label, tf.float32)\n",
    "\n",
    "    # Calculate the interpolation vector between the two labels.\n",
    "    percent_second_label = tf.linspace(0, 1, num_interpolation)[:, None]\n",
    "    percent_second_label = tf.cast(percent_second_label, tf.float32)\n",
    "    interpolation_labels = (\n",
    "        first_label * (1 - percent_second_label) + second_label * percent_second_label\n",
    "    )\n",
    "\n",
    "    # Combine the noise and the labels and run inference with the generator.\n",
    "    noise_and_labels = tf.concat([interpolation_noise, interpolation_labels], 1)\n",
    "    fake = trained_gen.predict(noise_and_labels)\n",
    "    return fake\n",
    "\n",
    "\n",
    "start_class = 1  # @param {type:\"slider\", min:0, max:9, step:1}\n",
    "end_class = 5  # @param {type:\"slider\", min:0, max:9, step:1}\n",
    "\n",
    "fake_images = interpolate_class(start_class, end_class)"
   ]
  },
  {
   "cell_type": "code",
   "execution_count": 9,
   "id": "358be735",
   "metadata": {},
   "outputs": [
    {
     "data": {
      "text/html": [
       "<img src=\"data:image/gif;base64,R0lGODlhYABgAIcAAP39/fz8/Pv7+/r6+vn5+fj4+Pf39/b29vX19fT09PPz8/Ly8vHx8fDw8O/v7+7u7u3t7ezs7Ovr6+rq6unp6ejo6Ofn5+bm5uXl5eTk5OPj4+Li4uHh4eDg4N/f397e3t3d3dzc3Nvb29ra2tnZ2djY2NfX19bW1tXV1dTU1NPT09LS0tHR0dDQ0M7Ozs3NzczMzMvLy8rKysnJycfHx8bGxsXFxcTExMPDw8LCwsHBwcDAwL+/v76+vr29vby8vLu7u7q6urm5ubi4uLe3t7a2trW1tbS0tLOzs7KysrGxsbCwsK+vr66urq2traysrKurq6ioqKenp6ampqWlpaSkpKOjo6KioqGhoaCgoJ+fn56enp2dnZycnJubm5qampiYmJaWlpWVlZSUlJOTk5KSkpGRkZCQkI+Pj46Ojo2NjYyMjIuLi4qKioiIiIeHh4aGhoWFhYSEhIODg4KCgoGBgYCAgH9/f35+fn19fXx8fHt7e3p6enl5eXh4eHd3d3Z2dnV1dXR0dHNzc3JycnFxcXBwcG9vb25ubm1tbWxsbGtra2pqamlpaWhoaGdnZ2ZmZmVlZWRkZGNjY2JiYmFhYWBgYF9fX15eXl1dXVxcXFtbW1paWllZWVhYWFdXV1ZWVlVVVVRUVFNTU1JSUlFRUU9PT05OTk1NTUxMTEtLS0pKSklJSUhISEdHR0ZGRkVFRURERENDQ0JCQkFBQUBAQD8/Pz4+Pjw8PDs7Ozo6Ojk5OTg4ODc3NzY2NjU1NTQ0NDIyMjExMTAwMC8vLy4uLi0tLSwsLCsrKyoqKikpKSgoKCcnJyYmJiUlJSQkJCMjIyIiIiEhISAgIB8fHx4eHh0dHRwcHBsbGxoaGhkZGRgYGBcXFxYWFhUVFRQUFBMTExISEhERERAQEA8PDw4ODg0NDQwMDAsLCwoKCgkJCQgICAcHBwYGBgUFBQQEBAMDAwICAgEBAQAAAAAAAAAAAAAAAAAAAAAAAAAAAAAAAAAAAAAAAAAAAAAAAAAAACH/C05FVFNDQVBFMi4wAwH//wAh+QQIZAAAACwAAAAAYABgAAAI/wDnCRxIsKDBgwgTKlzIsKHDhxAjSpxIsaLFixgzatzIsaPHjyBDihxJsqTJkyhTqlzJsqXLlzA3ypP3Tl25b+DAhSOXrt3MmCDlwXN37toxXLl2+So2LZy7d/GAeoznbt03YqskTbrECZUvaurYvZMnlSM8m9VkPVrTRg6eRaqQmVPnjmxZjei0Lbs16c2TKFi+0OkkDN26sXc1hks269IcKTBq9DAC5lEvde3g2U18MVsuTXes0IiAYUSLJoFwsXMHjzNGedJUBfoShEQBBhdCDNlzqx1U1xXlxYOnjBMbJDE2DFhAwQOQPLZYRwU+Uag7YYyuwAgRQUACCRt63P+x9U4z9Ynw2q3T5acIBwkJACCQwMFHnlvw4m0+71AeO3PgxFJHDxU4cAAADnTAwhOE8BKPfvxBFA863lRjChs1PKBAAQBMgMIOXTwSDIQRPhQPOdcUN4YLCBQgAAAYyLAEG5oYs1+JDMEjDjXFYALGCgUQ8OIGN0xRRyjK4AgRPOFEI0wlXqQgZAAAeNADF36Y0oySD8EDzjPASMLFCQJQCYBuYxzCyjNcOgSPN8zw4kgWJQRgZglLuDEJLdO02dA72yBjCyJWkGAnAACsYIUgpgCjjZ8MvZPNMK8MIoUIhwIQQxiV4LIMOJAu5I41v6DSBxQgZGpDG6cog405oSr/5M40uoRiBxMf2CmAADi8oUoz2pwTa0LtQFNLJnAg4UEAAgxAgA5xsOLMNugMixA7zLwSiRpEcNAsAQbsIIcr0HBTrbUEzaSOMaXMxkMGAhBQwAE+3DFLNd+ogy5Bw5nTSyVsPBEDBQGAi4AQffDijTnt7CuQdeLQQsgVPJzwQMEGJGAEIcSgw05rDtPEjjeq0DEECxsoUPABCyShSDP53TjsO+iIE40nadwwQgUIBGCAAg80wYgzJDrcjjjYEBOJFyxk8IABAhzQwARQPPJM0fuqw00zuBASxQcPJDCAdxBcIEUk0Pzk8DzpaKMMLX40kYECUA/AQAUfXEGJNDJb/5tONsrM0scSFrQoQAEQcICCF5lQs/ZAfzPGRxITGCCkARSI8MIYnVTzuEB/IxOLHkdAQMDYCGjAAg9tjILN5/OgY00xrdxBxANjC8DACUBoMQgs3MB+DjXBpDKHEA7sKsADM1Bhxya9hAO7OdL8UgocPzDArAAT/JBGJbEoA+vn5CxDyyVn6LDA9hUQAUcouUBz7uPgDHPKIV7QkACzA1hwRB2n8MU00gG7buxCE3aQAov4dwEl6MEVwrCGvj6XDVksogxIQMEB+IeBJfABFsS4xgRDFo9pmCIPUsgBCArAPwsgwQ6p+AU1CEjCdzSDE2j4AQswQAAANKsCRYjDKP90Ib+1xeMd7TgGJLCwAg9A4EXNooAQ2sAJWzRDWA5zR814QYgnhMACDNgVAQ6wgSbw4RXDkODa0gGOa8ACD0S4AAR6NgCWieAKjRjGNMDRMIeVAxvLKEUbcuCABHCIAAqAgArC4IlsjEMdIEOXPMDhjF5YQgwxaNEAAJCACoSAB3JoBcMQsy95aEMYrTBEFlhguRdJIAVXUkQu0vEbh8WDGrjghB2eYIKxUWkDOtCCHkJhjHZgzVrxcEYrFGEGIqTKTgEYQRPosIlbTCOSDoOHMT5RhyrcQAPbG4AKsHAIVwxDG9NZ2zuAEYkwEKEFBItXAWAwBk0EIxri6NvMcCH/CCjEIAQXG8C8bPAGVljjGzRcmzzcQYs8CMEEGFgfuBKggzrUwhvlYMfjZtIOWMgBBx2QQM8IgIAF8AAPtwjHOfpIwnWwgg0voAADWFiABDTAB3rAxTjQ4Y6NngUVZkABAxAwgAAUAGhA4IMueNJTI74jHacowwkYcICiGmABEEDYLsqhjncodCjnMAUZTLCAqgbgAAyQABH8wIu5eDVk6TFHKcZQAroVVWoUKAIgenGOwyj0Hewox1xNMNTTOUADJZBCIoLhsbeWsirjIAUZUFDIAhgAAynIgRgqYYx0fEyh7lCHOCSbggeUNQEhuMET5gCKZWAGm9ZaqGhNkYYXo2CAAhGoAAyYQAZEtEIa63BHOiWJRHO0gg4+WIEKVACDJpyBEKLwhTZYo89QHVEdtfiDE3jwAyEswQyFKIUunDGOYz6WF4vYwhOmkIUxDKIUw6AGODQKu3nQZBmoIIQe/DCIRZBCF9JYWFPrG49tFCMWq2gFLGohjGh8wxzrgO3n1kGObmxjG9zwxk59Y976evjDIA6xiEdM4hKb+MQoTvGwAgIAIfkECGQAAAAsAAAAAGAAYACH/f39/Pz8+/v7+vr6+fn5+Pj49/f39vb29fX19PT08/Pz8vLy8fHx8PDw7+/v7u7u7e3t7Ozs6+vr6urq6enp6Ojo5+fn5ubm5eXl5OTk4+Pj4uLi4eHh4ODg39/f3t7e3d3d3Nzc29vb2tra2dnZ2NjY19fX1tbW1dXV1NTU09PT0tLS0NDQz8/Pzs7Ozc3NzMzMy8vLysrKycnJyMjIx8fHxsbGxcXFxMTEw8PDwsLCwcHBwMDAv7+/vr6+vb29vLy8u7u7urq6ubm5uLi4t7e3tra2tbW1tLS0s7OzsrKysbGxsLCwr6+vrq6ura2trKysqqqqqKiop6enpqampaWlpKSko6OjoqKioaGhoKCgn5+fnp6enZ2dnJycm5ubmpqamZmZmJiYlpaWlZWVlJSUk5OTkpKSkZGRkJCQj4+Pjo6OjY2NjIyMi4uLioqKiYmJiIiIh4eHhoaGhYWFhISEg4ODgoKCgYGBgICAf39/fn5+fX19fHx8e3t7enp6eXl5eHh4d3d3dnZ2dXV1dHR0c3NzcXFxcHBwb29vbm5ubW1tbGxsa2trampqaWlpaGhoZ2dnZmZmZWVlZGRkY2NjYmJiYWFhYGBgX19fXl5eXV1dW1tbWlpaWVlZV1dXVlZWVVVVVFRUU1NTUlJSUVFRUFBQT09PTk5OTExMS0tLSkpKSUlJSEhIR0dHRUVFREREQ0NDQkJCQUFBQEBAPz8/Pj4+PT09PDw8Ozs7Ojo6OTk5ODg4Nzc3NjY2NTU1NDQ0MzMzMjIyMTExMDAwLy8vLi4uLS0tLCwsKysrKioqKSkpKCgoJycnJiYmJSUlJCQkIyMjIiIiISEhICAgHx8fHh4eHR0dHBwcGxsbGhoaGRkZGBgYFxcXFhYWFRUVFBQUExMTEhISEREREBAQDw8PDg4ODQ0NDAwMCwsLCgoKCQkJCAgIBwcHBgYGBQUFBAQEAwMDAgICAQEBAAAAAAAAAAAAAAAAAAAAAAAAAAAAAAAAAAAAAAAAAAAAAAAACP8A6QkcSLCgwYMIEypcyLChw4cQI0qcSLGixYsYM2rcyLGjx48gQ4ocSbKkyZMoU6pcybKly5cwPc6LBw8dOGzXvp1zB09eTJHz3q1DB+0WqE+0loU7187nz4/y2JX7hkuSGjSNXlHrdi7e04/wzHGbBmqNDRplMhmjJg7e143x2KHjRsxVpjlOTqzIcihWsWzt3mp0V45bslKCuhhxcSFEkzufbkVbJzijum7QahmaIuLCgwMYfpRhpCpZusoYwyGDNakMjgQFBgi4EETNJFfL1KGuOG/etFaIyBg5YWCA8Q1M9JziRY3d7om95Rmj9OWGCQqyjX+gkkgXs27unkv/fKfO3Cw8OyIsMABggAEFKcJocpatnFvxD+FtMyZL0RYWDCBAAAAMZGCCEXikoo046jiFX0PtIFPKIGD80IEBBAgAQAUrBCHGI7qYo8478zzoUDq0EBKFDSM4EAAAMHrQwxZ/lMKMPL2ZuNBM7oCDShw6kGABAjDCWAITcVQySzU6NhSXOdVwMsYKFzhQAIwBBMACFoagEgw3TTL0jjneKBNJFRuspyEAAQgwgxmb7PKMOGEuxM430uxCyBIQCPBiewYg4EMdqzSzDTp1KnTONL+UMkcQDWQJgAAKSJCBE4Xkos04ziWK0DjHtALJGDgsUCQBEXSgQheTIHMOO/d5/2qQN7twogcVLhAJowEYpKADG6FcI6tC2sjiCBpJoHAAmwEwcEIQWhjySjfDHtSbNakAckUPIhjQJgES1IAFH578Mk61Bs0jTzShyIFEDBsQEAABvBYRRye1OIMougOpG08zmpCBwwkVGIdAAyNQYUgtyWjTKb/0yAOPO8hIksUKHvR5QAQbzEDGJcdYI054EEf8DjvDJPJEBxQsEMACGaAwRB2naEOOOl6VHE876fgiyBAQrBfAAyLQIIUhtqzTU8kCtXMOOLXs4UMDsAUwwQpChAEJL+3EUyLT6oBzTSt05KDAAfJeMAMUcGwyjDs4Mk3POdo4U0obNGA4QAAb8P/AxR+kJAPP10yfkw0zpLCRd2wBiKBEHJbIIk3Ocs8FzSlv2IAAhgKkkIUirxTDjYNMp+PNNKnIYTYCscGQhijLZGMO4WCDUw0rdOzAQAIY3nBHLeKgQ7Lc9KgTzjWu2NHDAwEWkEMeuJQzIvECrSNONq/gAUQEDpy9Ax+7oAMr9fSsM442seghxAQQ7N6DH76s4w7lcptOTSt4DHHBBA8s8AMgwGjHO0jHNHNkYxmnqAMRNGABCThACIIIBk8ICLF5jGMaw/iEHIjgAQ1UIAJEKMQw3uE16s3jG8zABSbYIIQONrAIhSAGCWlXsnlsYxisWIQYcoABC1BAAkUghDD/Jkg9eVhDF6D4AxZiIAEJRACEgwgGOwZYRGnEohJyeIIKGOCAB0BgCIL4hfzop7NloMIQYyDCCBKwgAY8UBDAmCIZ0aWudxTDE3ewgg4uhAAFMCAIEWzH0pg2k3b8ghJnSMILLuCePgIhgkSsITycVgtEYGEHJ5CAAAhwgAT8IBDCmCHTomKObqhiD0pogQdcRC9PgpKEFBwWPM7xDbK0YQchqEACAuAeV0pwkBBzhziscYxKgIEFFGjAlQZwAAUAIRC/jKWn5pEOagBDFX+IAgkeoAB5IeABFlACIorRExrKSl3jMIYqHoEGIWxAAcURQAMuIAIpPCIZceOXv7qB/wtLyEEKMpBAbAQwAAmAoAVdsIQzmMYOcmyDGKDoAxaAcAIGCMBPBKiACWwwhk1Ag2nicIYuQiGIMAjBBRzYZZYKgIEV8CANnYgG066BC078QQxGUIEHIlCALAXAABtwwRDcAIppMK0ZpviDF47QAgs8AAEaatMBQHCDJ+DBFEzS5zyKgQlk1UAEQfPWtxrAAiakwRGy2IY+5RGPXiRiCjEowQXOJq95HUACOfiCIUgRDHDokya10IMPNjCBBWToRQJ4zwWMMAdQ5AIa5uAXW98xizvkwKkJuGiWNsaBFmwBEUnRhm7QJTHK3kEHF4AAArJ00QaAIAZJmIMnkGGz4cMNS2LukMVpU7vaNg2AAi04ghgWIYtupKMpkp0YLgjRhBV8YAIIYMADJoACI4ghEKMwxjrMeU6JKWMUfOjCuzqQghn4YApvWEQpeFEN2671hquIBBygIIMiWOEMgNCELJRxDXLMkV/tKEc3hJEJNhzhC3mYhCqGwY145JN48FiHOaYRi0nYIRGccAUwpFEO8g1EHicDRwpRIYteJKMa4KCMhwWiLnc8TRveEIeI5rfiGtv4xjjOsY53zOMe+/jHQH5OQAAAIfkECGQAAAAsAAAAAGAAYACH/f39/Pz8+/v7+vr6+fn5+Pj49/f39vb29fX19PT08/Pz8vLy8fHx8PDw7+/v7u7u7e3t7Ozs6+vr6urq6enp6Ojo5+fn5ubm5eXl5OTk4+Pj4uLi4eHh4ODg39/f3t7e3d3d3Nzc29vb2tra2dnZ2NjY19fX1tbW1dXV1NTU09PT0tLS0dHR0NDQz8/Pzs7Ozc3NzMzMy8vLysrKycnJyMjIx8fHxsbGxcXFxMTEw8PDwsLCwcHBwMDAv7+/vr6+vb29vLy8u7u7urq6ubm5uLi4t7e3tra2tbW1tLS0s7OzsrKysbGxsLCwr6+vrq6ura2trKysq6urqqqqqampqKiop6enpqampaWlpKSko6OjoqKioaGhoKCgn5+fnp6enZ2dnJycm5ubmpqamZmZmJiYl5eXlZWVlJSUk5OTkpKSkZGRkJCQj4+Pjo6OjY2NjIyMi4uLioqKiYmJiIiIh4eHhoaGhYWFhISEg4ODgoKCgYGBgICAf39/fX19fHx8e3t7enp6eXl5eHh4dnZ2dXV1dHR0c3NzcnJycXFxcHBwb29vbm5ubW1tbGxsa2trampqaWlpaGhoZ2dnZmZmZWVlZGRkY2NjYWFhYGBgX19fXl5eXV1dXFxcW1tbWlpaWVlZWFhYV1dXVlZWVVVVVFRUU1NTUlJSUVFRUFBQT09PTk5OTU1NTExMS0tLSkpKSUlJSEhIR0dHRkZGRUVFREREQ0NDQkJCQUFBQEBAPz8/Pj4+PT09PDw8Ozs7Ojo6OTk5ODg4Nzc3NjY2NTU1NDQ0MzMzMjIyMTExMDAwLy8vLi4uLS0tLCwsKysrKioqKSkpKCgoJycnJiYmJSUlJCQkIyMjIiIiISEhICAgHx8fHh4eHR0dHBwcGxsbGhoaGRkZGBgYFxcXFhYWFRUVFBQUExMTEhISEREREBAQDw8PDg4ODQ0NDAwMCwsLCgoKCQkJCAgIBwcHBgYGBQUFBAQEAwMDAgICAQEBAAAAAAAAAAAAAAAAAAAAAAAAAAAACP8A8wkcSLCgwYMIEypcyLChw4cQI0qcSLGixYsYM2rcyLGjx48gQ4ocSbKkyZMoU6pcybKly5cwQ96rJ+9dOnLfvHXbxq2bt2/fwIErx07ePXz4YmKct45ctmS5VJ0a9QnUqFOqVrFq1QsauXj07CVVWtGdOGvDUkHKI4eNmTNt5uDRw6dPpVrV2MGjh5QsRXXakr1alAbJDxstXtwAckRJEyhzOCE7V/So34nrtClzZQhMjhgpQohA4cIGkSlhBKGCppfv2MsQ121j1ipQFRUjOFCgkKGDiR9Y4ECihQ3ePHuwJ7Lj1oxVnyUbKjhAcCABgwo5vAD69AtcPbHJJbr/C0dtViAnHaQbMKDAgQYhaByxQlbOcviI8M5187UoCwoPFCjAAAUcrCDFHZvY8gw6fd0H0TztmJOMJWTMcMIGDkjggQo8iEFIKsFYs85rDjpUDzzrPLOJGjq08IEEGKSgwxNyUIILM924U2JE8qgjDjGShBEDCh9YIEIOT6BxCCrKaGNOPDtC9M442ORyCBYokPCBBisgUQYgnvTCDTru1BPlQ+x044wrfjjxwZse1IBFHpjUIs079txz5kOyKaMKH0x4YEILNDgBhySyIOMNPXtCpE42yKCyxxIgvPDDE2os0soy2qCDXKMOpYONMabksUQIOUSBRiGmJFPOOvKQ/wiqQuhUI4woeThxghFlCPKJL97kKeusByFFzjO5cKKHFTZowUcnuTxT37DEFoTUPeEkE8sle3hRBBuT6CLNN+1QWy1B+NxjTzdpScKHGVT8oco168Bj5rkJ2eNOOdwIU4oieKzxxRWDvNKNcXriixA940gTDCmHrMGFFlhkUYgs4cxTj7kKx4PNL6YckoYSPhwBBReI2FJOngojhA87y6SSiBtS1PACEFGM4Ygu53B8brr2mLOLJGpUEUQLLQyRBRyXAJOOz9XiU88837DChxI8wEACC0eI0ccnxYzYskH2yOOONZyUscIIIBS4hBqJpLJMO2MPNNM85VAzDCp8OP/RNgcbvFDFHp7kQs07dQtUTzzsUGNLJnxogUMFFWCggQxgLFJLMt7Ikzg+8rBjzjCZxOEEDiG0N0EGNqixCTPanHNvy1KXU00xovBBBQ0lWHCABSjokAUhsGxDTjufKpwuPNHMYkkeXPRgAgcSJICCEmsokgoy5lRG+0zr+DIJGk/sYMIFEzigQA5rbNLLM+CAlTy+98zzDjip2AHECh9MsAADDWgAEgpBjHO0g1GJiwc5riGMSIwhBh+4gPoaEIEKQIERc4vH7Ma2jmr8ghR6cEIIKOCABCDgARboABYoEQ151CNhdTPHMVCBCDHoQAIIMAABDhCBDZQADJrAhn3/WnY3bdACEm1oQgsYUAACEEABHYCBEOqACm8kLh/0QFEzQpEHKeggBAlwYgEewIIkmKERuBjHFXs0DmBAIgw2MEEFCjAAAhiAAjsQgyFMcYx0fK4d4bAGLPzAhBBcoAEDEEABDpABJNhBFLyoBt3qdo9ySAMYm3DDDzAQgQQIYAAGSIAHojCIWijjYHXDx7qGoQpDdEEGD1CAAQKwwwWIYAuQQAY2zDGPVNajGrSohByYUAIdDoCWCWiACcjQiW2Ywx3zixpN2GGMT+xBCzvgAAESGQADNIACL1hDKcbBjnjA8Fz3iMc6xmELRYBBCCugQCIFEAAESGADN5hDK9QB/xaoRake7ShHNkxhByKkQAMMCIBCA7CAC4gACHugRTzA07J5mOMplihDDDIAgQMAIAACEEAERlADKiDCFxtUGDy4gQxZEOIKKJgAEwHwSQJowAZToEMnkhFNfLFDGrfYxByU8IEGIGAANCVAAUighDdIYhbVOKfC0HEMUxRCDDzwHQEEQNNFtqALioAFMsDhzx2pkh7gyMUk3AAFGESAjgolAAIYYIM0aEIY1DBHWUtkD/tdQxWAsIIPSsAAbnZzARDwQR1WQQ1wsGNs9XiHOpzBCTb0YAUaQMBCBYAAB1DACIHgRfd62bIpXSMXieCCC0AwgQIA4KMCWMAENuAERP8Uwx3y6CmxzBENXnCiDksYQQYcQIDXBmAADsDACKrgCGXIgx5SrZY3fhEKQXxhB5xUAFc/SoAIeGAFXKDEM76z1xJVwxWIOIMSWPCABcwStgeIkQ7QwAlqNOhn6loGJ+DwBNQtAAEEAGkBEACBFRghDIaIBTfKex910SMYjMBCDUpQgQPAdQAJcI8PxlCIUhSDHGOzBz3icQs+/GADE9AuPQNQAAZMYARS+AMripGNSeJLavFohyzqYIMJNOAANTVABEIgAyTEARPDsMZXaDcPd6SjFXCIgfoMoMhkgmAHV5jDJKBKTgTST53lSMUaWKCAA2y1sxRwweA4UYsF7SW0urNKZ1NWAYcZTOABDEjABDqwKzhk4hfRGEdKb0yPd6wjF4SIggzWxgEX/AAKbHiELKLhDXXo9lwijscxMkEzI+gABkgIAx4k4QpmkGMd8WBwlJBSjVcoIg5hiMIQxhAIT+BCWkO8okC+QYxUWEIRf7DDIkSRC2Zw47G6LghgktELW7wiFbcoxjS8gQ4oJZsghU5HOcYRjm+MAx3tePO1x03ucpv73OhOt7rXze52u/vdBQkIACH5BAhkAAAALAAAAABgAGAAh/z8/Pv7+/r6+vn5+fj4+Pf39/b29vX19fT09PPz8/Ly8vHx8fDw8O/v7+7u7u3t7ezs7Ovr6+rq6unp6ejo6Ofn5+bm5uXl5eTk5OPj4+Li4uHh4eDg4N/f397e3t3d3dzc3Nvb29ra2tnZ2djY2NfX19bW1tXV1dTU1NPT09LS0tHR0dDQ0M/Pz87Ozs3NzczMzMvLy8rKysnJycjIyMfHx8bGxsXFxcTExMPDw8LCwsHBwcDAwL+/v76+vr29vby8vLu7u7q6urm5ubi4uLe3t7a2trW1tbS0tLOzs7KysrGxsbCwsK+vr66urq2traysrKurq6qqqqmpqaioqKenp6ampqWlpaSkpKOjo6KioqGhoZ+fn56enp2dnZycnJubm5qampmZmZiYmJeXl5aWlpWVlZOTk5KSkpGRkZCQkI+Pj46Ojo2NjYyMjIuLi4qKiomJiYeHh4aGhoWFhYSEhIODg4KCgoGBgYCAgH9/f35+fn19fXx8fHt7e3p6enl5eXh4eHd3d3Z2dnV1dXR0dHNzc3JycnFxcXBwcG9vb25ubm1tbWxsbGtra2pqamlpaWhoaGdnZ2ZmZmVlZWRkZGNjY2JiYmFhYWBgYF9fX15eXl1dXVxcXFtbW1paWllZWVhYWFdXV1ZWVlVVVVRUVFNTU1JSUlFRUVBQUE9PT05OTk1NTUxMTEtLS0pKSklJSUhISEdHR0ZGRkVFRURERENDQ0JCQkFBQUBAQD8/Pz4+Pj09PTw8PDs7Ozo6Ojk5OTg4ODc3NzY2NjU1NTQ0NDMzMzIyMjExMTAwMC8vLy4uLi0tLSwsLCsrKyoqKikpKSgoKCcnJyYmJiUlJSQkJCMjIyIiIiEhISAgIB8fHx4eHh0dHRwcHBsbGxoaGhkZGRgYGBcXFxYWFhUVFRQUFBMTExISEhERERAQEA8PDw4ODg0NDQwMDAsLCwoKCgkJCQgICAcHBwYGBgUFBQQEBAMDAwICAgEBAQAAAAAAAAAAAAAAAAAAAAAAAAAAAAj/APMJHEiwoMGDCBMqXMiwocOHECNKnEixosWLGDNq3Mixo8ePIEOKHEmypMmTKFOqXMmypcuXME3iw3fPXj168+S9U1cOnDdu27Z9G3eOXTx7MS/SvBnvXTt15sRtW8aLlSlRnj6tshUMGjh4+JJSXCoPHrt05b5hk3aslSQ8b9CMKWMH0aZaz9TNFAsRn02d7NCN85YtGrJfsBqtUbJjhgoXR77Y0fSL3L2wfBfStIdO2zJgumi5SkXqEyZIiPqUaUJDRYkPI3AwAZOIFrjLmRfeqzcvW69QjgrxoQNHjRkwW6gw6eHiQwYLEzCgyKHkjqpu9u7lTuh3HrxkoO54/6GCpMcNGSxOiPCQgYKDBAjiM8hgQsaZT9myY94u0G89eOVo80wqgGgBhA0rhMABBhRA0IACBxhAwAAEGIDAAx/AAEQcpmyDG3/91RNPO+MwU4snfoABBAskdACdgwwoAF+EBSCwgAMZyKBEGIrYEs5eINIkDzvmVDMLJG5c4YMJF0zwgIwIHHAAAglUGeUCEFQwAhFjCEKKMeiA2N9uJGYzDCZvGDGDCBEcUMAAAgxA4QEMRFCBBRZcwIEIKODAhR+j8FJNO2LiU49O4DCTyyd6YEFDCRkwYMCbAxiQAAMX9HlEE1Ro4cUYZ8ixCCm+PANOPGLeM4876UhTSyZ7eP8BRAgYQIAAAbgSkIADE5wwxBd1COLIJqCQgsorvSyTjTjs1BOkPfCoMw4xn+SxRRAoPHkAAXESUAADFGxwgxeEnJILM96QY0467LgTDz31aMffTPa4Y843vVDCBhM2hLBAlDVCgAEILvSwBBmElCJMNOC8Q489+4nZn6HsjLPNLY2UQUQMHixgJQQhyDBEFm0IgokrxFwDjjrz6CcxQUutA441shjCxQ4rbLCAAgosgIEMTJQRyCe9PJPNOOzAM8+HLw+0lDrgVPNKIFbMYEKkDkhQwQlInGGIKcaUI0+8TSvkF4naxPJHFC2MkMEDGIjQAhFmILIKMNY0C3HZCt3/884538ziBxMngJCBBCHMQMQXhKzyzDbnyMM03wfhE4865NTSxxEhdJBBBSsMsUUeozTzsLyUm335OLb4kQQJIoDgQQ5VvOGILNZMnjpClqsjji1/LIECCimkcIQZhIwCTDcR7847POn8HogTLbwQwwxVTHaLM+Q4r1k96GzjjCl3LPFCDTsEQQYiriSjjTreJ7TbO9f8coohZQgBAw9IUFHHJsHIBjneEb/K8SYdxhgFIM4QBR3EYAhUKMMhWjGNdDisgAa5hzzcEQ5aHIILSehBDGSQBGBl4hflABIGnfYOcEjDF5VogxFwEAMVvIAJZxjEl87RPAzS5BzOqIUm/+xQBRicoARyewIcIvEKZsBvhU7bzTd4kYk7aEEHGqgABjawginc4RO5mAY7oDgQeayDHMkYRR+4MIQUPOABFdjAC7QgiFYQIxsEJOM90JENZbQCEWTYWAcU4IALgMAGY3DELpxxKjL65RvIgEUk2qCEFXhAAgZoQAZK0IM1aEIZ2TDHPKBIE3pY4xZVvMIMLPCABAiAARtQQRHoUAprMMtZPrQHPeDRjFUgAg1LYIEEGHAAATwgcVDoQyu6cQ53IMWHImJHMTxxhy38gAQPMoAAJHACHmjBELVAWjxQFz9VueMcvJAEMGnAgQRsSwAUaEERxvAIXqgDHvTo4e7uEf8PdpDDFonoQhBYgIEIccsCMFhCGigBjHXEox76TB201BGOWASCCjgwQQXcxC0M0AAKbrhEMBwK0RXa4x3o8AYr8qCEF4AAkwWYkAZuUIU5bGIYRikpButlDm6oAg9IaMEHIjApmdLUpsNQx7siSjmebsMVgKhCDlBwAXe+6QJAU8MketHMpZnUXtuQBSLAUIQYcOBfBhhABVgwhDAs4hbjcCg5vVePdpRjG7aABBuikIMQOABCA5CACXSAhUHE4hvpgMczC3jSdICjF5vIAxeCUIK/pvUBIIhBE/bACma+Y7HlHFI5jGEKQ5whCW5UgDbncwIhzOEU2zCHM1eIj13/rsMZsaDEHNj2JAMEAAET8AAO2CAKAbYDlwU01KqooYtP9EELM5hAAw4QAAM4wAIvMAMnphGOdSA3ft2BR/3uFwYebGACCggAARYQgRR8gRLLgNwoc0mPeGyjGK9wRBqIMAIMNCBOdBJBFhgxjGqMQx5Q3I08vKEMW1gCDkxQQQcgIAABEOAAHJBCIXZhKlStUMHaEMYqFoEGI5xgAw+o8IU34IQ+wOIY28gjBmsij2vs4hOAUFF//yuAAhxAA0mwQyl8YQ13JNge8pjGLChRhyzoAAQWYECFa5SBIrxBE7aIxhg/LCJmnEIQZmCCDDgwgQVQCAEM6AAS4oBlLdNW/5fvGMYl2iCFHqTgAhFQwIUZIAESPMEOodgFNQgFzSHpAhFZYM4HJPCeAiQAAhdYQRX4cIpfXMPIPqyvOmShhyIkyAIO+Ne3LACCGnjBELAwRow/PI+/tWIOPAhBBiBgVQKATAZLkMMmiGFgBM9YHu0gxynYIAMM5DmmcForEcJwCFhgA2nf9R4/1xEOUZghWwkgQAC2HYAM3MAKdehEMdgxNqbybaLgCAUZTMAABAwAAAAIgAA+QAQ0LMIV0JBHdhIcD5mpuwTEfLe8B2ACKewhFL3IRrzMzbdphyMUYyjBAg7w7jgVoAVfeMQtmCGOuRZQgxUzRRpcQIFWGoCQE57oARxIsQxtpIPhlKst9GbBhyS8wAQcuEAIVlADLiQCF9oYIBn7A2dgQEIMSuDBC/qEBCyQrhkWpMfQnVYPZpBiD2OYghBy8AQy4CETvfjR1Atyj2zw4hOM+IMc2sCHRnQCL+kYe0HwUaRh4AIWqCiFK3AhDK/IWO4CmUc7zkGOcHijG+AgR1GOAvjGO/7xkI+85CdP+cpb/vKYv3xAAAAh+QQIZAAAACwAAAAAYABgAIf9/f38/Pz7+/v6+vr5+fn4+Pj39/f29vb19fX09PTz8/Py8vLx8fHw8PDv7+/u7u7t7e3s7Ozr6+vq6urp6eno6Ojn5+fm5ubl5eXk5OTj4+Pi4uLh4eHg4ODf39/e3t7d3d3c3Nzb29va2trZ2dnY2NjX19fW1tbV1dXU1NTT09PS0tLR0dHQ0NDPz8/Ozs7Nzc3MzMzLy8vKysrJycnIyMjHx8fGxsbFxcXExMTDw8PCwsLBwcHAwMC/v7++vr69vb28vLy7u7u6urq5ubm4uLi3t7e2tra1tbW0tLSzs7OysrKxsbGwsLCvr6+urq6tra2srKyrq6uqqqqpqamoqKinp6empqalpaWkpKSjo6OioqKhoaGgoKCfn5+enp6dnZ2cnJybm5uampqZmZmYmJiXl5eWlpaVlZWUlJSTk5OSkpKRkZGQkJCPj4+Ojo6NjY2MjIyLi4uKioqJiYmIiIiHh4eGhoaFhYWEhISDg4OCgoKBgYGAgIB/f39+fn59fX18fHx7e3t6enp5eXl4eHh3d3d2dnZ1dXV0dHRzc3NycnJxcXFwcHBvb29ubm5tbW1sbGxra2tqamppaWloaGhnZ2dmZmZlZWVkZGRjY2NiYmJhYWFgYGBeXl5dXV1cXFxbW1taWlpZWVlYWFhXV1dWVlZVVVVUVFRTU1NSUlJRUVFQUFBPT09OTk5NTU1MTExLS0tKSkpJSUlISEhHR0dGRkZFRUVERERDQ0NCQkJBQUFAQEA/Pz8+Pj49PT08PDw7Ozs6Ojo5OTk4ODg3Nzc2NjY1NTU0NDQzMzMyMjIxMTEwMDAvLy8uLi4tLS0sLCwrKysqKiopKSkoKCgnJycmJiYlJSUkJCQjIyMiIiIhISEgICAfHx8eHh4dHR0cHBwbGxsaGhoZGRkYGBgXFxcWFhYVFRUUFBQTExMSEhIREREQEBAPDw8ODg4NDQ0MDAwLCwsKCgoJCQkICAgHBwcGBgYFBQUEBAQDAwMCAgIBAQEAAAAAAAAAAAAAAAAI/wD5CRxIsKDBgwgTKlzIsKHDhxAjSpxIsaLFixgzatzIsaPHjyBDihxJsqTJkyhTqhS5T18+fPfw6du3b+XKlvjqyZNHz16+mTZR4qwXrx07ePPu/QzqkSY+e/TgqRvnbds1atCYITu2zJk0atawdSvHbp7PmkwnurwnlZw1YrFEcarkSNEhQoMMIVrUCNIkT7WWgUsXL19aifvy2ZuHzts0Xp4AmeESxciQIEB+AAkyxEgSJmAMqWq2Ld29wxH13Zv3Dlw0YaL0RHEBQgIBALhzAyig4IEKLo56QRtnD3XDoW2f6Sp1iAwQERgaDAiAO8CAAgg6zFByZpEraN3W4f8zzlB1PXjpwmXzNSoRGycwLkBIMD1AAAEHFjyo0aXQKFzOjLOOPPqQt1A+RK0jTjbOtNIIG1Hg8MECCBQggH0BEKBABBc0Ycgv35zzjj0yGYgQTfrAY8420RzjyyyY7PGFEjmgoEEFECjAAAQUbIBCDUPQcco2JKJlokEtvWQPOc/swooomjziRxtbQIHEDzewAF0HJsDgAxVrCCIKMefIZOSRAyV5Tz3zXJMLJ4j8UccaZHhxRRVWWEEFETWU4EIPTIQRCCjASCOOPDShmeY++NBTVDrliBOMJ32c4UUVTURRRRZgoBHHHGE80cMRWbBRSCrNyKPUmWjmcw896GT/owwvs6QCyiJ0dAHFEkcQQcUYcwCyyCWdRFIIHoAwkkkqw3DjU4GKCrTPPfK0c00vojTShxtfUJGEDzmEu4MVcTTySSu8GAOMLrPg4ksxz4T3E6tH7kNPO+ccEwofXBwhQwcdePCBCCesIEMWgJTyCzTiwOPwO/DIMw89SkU7kEv0kEMNMaUMAsYQM4gggQYjtHBDEEtckccmvUgDjjsz0WuxtI2yE00tmvghhhExnOBBBSTYcAQWaOCBSCi6TCPOOvQkOvNBCMJDTi+XwHGFEC14wIEGGLyQhBh5PDJKLsloo448Pj2dEFuxruIHFDqssMEEF3AAgg9d9IGJK8Zw/2POO4aprRCs2yDDCRxDwEACBhR4cAIMUtihySzFWHNOO/RAK/hB+8DzjTO3NCKGDSZ4YAHQMgRxxiO1PLONOfHUg4/Mm9NkbTCn+EFFCh1gMIEFKvQQxR6mSLNOPMVtnpBi8oRjDCuRuKHECR1kUIEGLxCRxSCtYAMPPeMpj5A9UlFTCyZ6eCFE6Rtg8EENS4SRiCzcoB24+AbNo044x3Q8hhM5IIEHOsCBEeggCmh4xC3AITvN4S9N7OhGM2QBCTdAAQgxCMEHQBACFRChC3fYxC/IsaoHFmQf4UDGKyhxhywAgQYpENgIfiSFNzBCFcpIx7xMSBB9XIMWkahDF/+IAAMUhEADHzjBC4AAhkCEYhfUcIfTeCiQfDADFHTAAhFB0AENWOADKrCBEt4wCVss4xvzoGKa9FGPYlSCDEnAgY0wYAEKgAAGQcBCH0BBjGqUox5q5Edi7hGPXiSiCjlgwQcqQIEJREAEN1iCGRThCpet4zRqZFQ93FGLPhRBBSCwwANG+YAR9MAKdMAEL8JxtvvxcFr0YIctAJEEGJigAxXIZQVasAQ1JAIVyEDHO+rhQBNOax7s2IUishAEG7BgBCIAwQd04AVBIG0a7EBeMR94zHYAoxJpqIwOYuCCFaQACXHQhC6Y0Y13UIx2yoNlO44BCj2Q4QpK+MEObjD/gyoIohXO0IY50Da7QCbGHvGQhiwm4Qc3eCEKSygCEL6ACFg4YxvooFg+4Kk8feSEG8RgBSYKIQcxbGEKTECDI2TxDG6YZimBFGRizmGNYsSCE4aYgxrCkAU5UKJ18pqiQfWxjm0w4xagSAQd1NAtNSDCFMCYRjnMFNOLRdAZuQAFIuRQBiwsoQt4mAQriuGNewClqoJsxzeisQtQHOINYIBCEKBwhj9k4hbWqAdM0foOcVgDGKdwRB3GIAUgKGELbSgEKpgBD9lxFH/yQMc3mnGLbOFBDE14ghW8EAdM9IIc7ZiHKwNZj3egQxvIuMUoGDEHLUwhCk/ogiFekY1y/7gjfFVFUDzOkQ1m7OIThEADFpgQhCTUIRTNcGnyhjqPdWjMF6mghB/OAAUj+OAGQ5iDKFzGDkxm0lXsAEc1fAGKQaDhCkewQQxe0AIfyKEUtb1tTD1aj3JYwxioEAQXdhADE3CgAyAYQQ7igIpvqKMwgdSHPaqVDZtKYg1EIEEHRCkBDHSgBm84RTgGNNoH5iMe+zuGKyyRBy3sQAQbqIADImCBDciADaTwBmE6jL97sCMc1LAFJvIAhiTI4AMaoIADeNQ1NIRCGyLCrTHpYV9jjCIQXkBCDlTQuwk44AG/a4EZPoEN2ypZfORTBzeOIYtOBKIMcWyBCKwnAQdQgP8DJfDBHIZ0Dnh8WXnxIAc2iJEKR8zBC0mYgRFTPAEIOAADJqCBE/7wCgMj2ITryMbzFqEGJewga3SkgAQg8AAHcAAGQ/jCIm4xjrLQeGaJwYc3hoEKRlgQhh6gAARmHQEJUKACKhgCF/LgiWGgo7HbRHWj4NEMVBDiDFLoQQpAgIEHNODKHOJACHiwhT1oohbScEdSHnskNr4jHb1wxBeCUIMYXiACC9CRAySwARK0wAl00EQumgEOjXKbPC2xBzsWdAo6/EAEHsiArBdwgPw4YAIgcMEOwLCIWlQjHO3YoeDwIY99P4MX+c0CDLxYaAYkwAAI2NEFUrCDJshhE8P/GEw8zio4eqjjc7EgMRd8EIIIOHsBCTgAdhrAbhkkAQyEUEU0smmPexsIHuGQhi4q8YYk2IAEEkgAAg5gAAMUgAAIcEAFQLCDK8jBEroAB1XFx449q4IQXsBBCjjggIIXPAEMeAAGSACDH2zBDpJwxTLQYfQjoeMZttjEHagAgxFEBwGIR8ADLNABFvwgCmYAxCZokQxuvIOH5DBGKiidBBTgkgGJV8DWVwAELcyhEaXwxTVAu1z8keMYqWDEG6Ig6A9YQAIVuIAGUoCDI3ghD5RwxTCyMaKCmpAd1xhGKyihhzBIYQg0gMENelAEK6AhD4wABS2OYQ1yzGPsD2RMjzecgYtRPGIPZ5iCE7JAhjcQAhOr0MUxqAGOX4Ofm656hzeasYtRKCIObLAHiqAJsHAMMuZOEjdUsMINz9ALqpAJlfAJq2ALx4ANhOFYaCVT+IAe4XANywAM77IM0sAN54A8JZKBNLMY8MAO6IAO6sAO7iAPesVyKFiDNniDOJiDOriDPNiDPviDQBiEHxEQACH5BAhkAAAALAAAAABgAGAAh/39/fz8/Pv7+/r6+vn5+fj4+Pf39/b29vX19fT09PPz8/Ly8vHx8fDw8O/v7+7u7u3t7ezs7Ovr6+rq6unp6ejo6Ofn5+bm5uXl5eTk5OPj4+Li4uHh4eDg4N/f397e3t3d3dzc3Nvb29ra2tnZ2djY2NfX19bW1tXV1dTU1NPT09LS0tHR0dDQ0M/Pz87Ozs3NzczMzMvLy8rKysnJycjIyMfHx8bGxsXFxcTExMPDw8LCwsHBwcDAwL+/v76+vr29vby8vLu7u7q6urm5ubi4uLe3t7a2trW1tbS0tLOzs7KysrGxsbCwsK+vr66urq2traysrKurq6qqqqmpqaioqKenp6ampqWlpaSkpKOjo6KioqGhoaCgoJ+fn56enp2dnZycnJubm5qampmZmZiYmJeXl5aWlpWVlZSUlJOTk5KSkpGRkZCQkI+Pj46Ojo2NjYyMjIuLi4qKiomJiYiIiIeHh4aGhoWFhYSEhIODg4KCgoGBgYCAgH9/f35+fn19fXx8fHt7e3p6enl5eXh4eHd3d3Z2dnV1dXR0dHNzc3JycnFxcXBwcG9vb25ubm1tbWxsbGtra2pqamlpaWhoaGdnZ2ZmZmVlZWRkZGNjY2JiYmFhYWBgYF9fX15eXl1dXVxcXFtbW1paWllZWVhYWFdXV1ZWVlVVVVRUVFNTU1JSUlFRUVBQUE9PT05OTk1NTUxMTEtLS0pKSklJSUhISEdHR0ZGRkVFRURERENDQ0JCQkFBQUBAQD8/Pz4+Pj09PTw8PDs7Ozo6Ojk5OTg4ODc3NzY2NjU1NTQ0NDMzMzIyMjExMTAwMC8vLy4uLi0tLSwsLCsrKyoqKikpKSgoKCcnJyYmJiUlJSQkJCMjIyIiIiEhISAgIB8fHx4eHh0dHRwcHBsbGxoaGhkZGRgYGBcXFxYWFhUVFRQUFBMTExISEhERERAQEA8PDw4ODg0NDQwMDAsLCwoKCgkJCQgICAcHBwYGBgUFBQQEBAMDAwICAgEBAQAAAAAAAAAAAAj/APsJHEiwoMGDCBMqXMiwocOHECNKnEixosWLGDNq3Mixo8ePIEOKHEmypMmTKFOqXMmypcuXMGPKnCmQH02V/PbZvMmRn899+vLlw0eU6L18+3gO/KkvaFOdOw3y04fPnrx26MJNI2ZrlixZtHYJQ3bNXD2lOYNWrWcPH1KdS33mvDfP3blu1I6tejSnDZs1cPwwylQrmjufN6fiu1dvXjx59Y7qSyo3J1B67c5xcwaM1SAtME6YILECSJU1k3iZg+sybT1468p9y0ZNGjRn07J9I3dOXbt05cB568ZtWzRkvmSVwmQIjA4KCxQkgGCCh5RAscRNbk21Xjpuz4TV/0LlqVMnTqRe6RqW7Jk1ZsFsvXLFSlUnSIPwvCmT5YeJBgccYEADINBwBB6sfDNZVDjh8xo3x8zyCSN4pGFhGnUUQokoq9TiiyudLBLIH3zkgQYWSPiAwwwrfDCBAQPEmIAGK+zwhindIMXgST7hIw875SwjCyaAoBGFD0AIQcQUZuSRCCWepFKJH2dkYYUUTvCgAgYQNLBAAgcUQAABBRjAQAcu+BDHKTnqs2NJ+txDzzrdPAPMKpYE4gYXSvQwRBJQePEGII1MgokniMBxRRJEAKFDCyBM0AADDCzQwAMRWKDBBysQ0YUdmwRzzoIq+UjnMbFwsogeanDxxBA8GP8RBRdq5IGIJLhOsocYSOQwQwsneGCBl5Q6QEEGH5zwAg5JqMFIK8RoAw9iKtXDzjjQyELJHWt8MYUSsOqQBBZo1CEIJJZEwsghblCRAwohaDABBAwggIClEWgwAgs4EBEFGpHsUk479OiTkj7ujIONM8PkcoojdXRxRRRKGCHEDz884UUbeyBSiSaSLDKIGk/QMEIHFkDwwKQTfMCvv12gIQcfj8AizTz4uJkSPdsIgwonkRiCxxlWGGG00UUMYQQVY8jxx2CeUKJIIGcwIYMIHFgQgQRci6CDFGnggcgln5jSSi7OiHPPdim9gwwoeXQ7BRI/2OBCDTwIUcQRSDD/oQUadgwCSSehWKKIH2Qo8QIIG1ggAQUXZBBDFXlowoov0VyjjTfjrDMPaybllM85thhShRE6uGDCCCB0cEIMOwAxRBFJVBFGG3kQAskkh+wBRxZBpMCBBhdY8AEKMThRRyfASFPOPaCvlM887WCDyh1H5ODCCBxskAEGIKAAwwwz0GCDD0Y0QcUWYpCxxRRL8MACBxVgoIEHN0CRBiGg8EINOO3Ix5tSUo91gCMZmUjDo0SAgQk4cAIZ8AAJSkCCEYjABCpwAQxkQAMawIAFJ/jABR7wAAu47gl4CIUulKENdLijHkl5iTzGQQ1dKGILLADBsBKwAAY4IAL1uwAF/yLwAAcYkQFgEhMBYjQAASCAAiB4ARpAkQ140EOAA0QJUPAxjmS4AhJrKAIILgCBBBgAAQlQwKUiAAEHMEA6CUiiAAJAxwAIYAAFmIALlGCGgJnDHkiJST6sMo1WHIIMSXDBBBygAAOQyQAHQGN0wGSASoppAAEAQB0HYIAEgGAJdgjFLqrxDh3BhB/3uAoxIvEFHKAAA2EigABmycQxLbGJs5xlJgGgyQAUIAEMYAEaRrGNcrwDH1lUiT7o5AxSyCEIHaCAAnbZSzvmso50zGWMCHAANV4gBCx4QiKGYcqY5IQe1bCFJegABRZI6gDUzOYdmRijOz4SAWqkAAdGkP8DKKDhEK+wBlRkApR3/OIRXxiCCzBgxgHwkpfWHACZCkDRMZUJnw2AwAVE0IIcbOEPowAGNdKRTJXsw0HlOEUaVGABBxTgoRC1IwHOmMZKTdJSDpCApkYggyBAoQ+s2AY9oGdOoLDjGsEwRR6W4IEHJMChDyVAAhpwARPQQG9IWMISlICEI3j1CElgwhNsh7tN/IIcR4nhS/YxlG7UohFnWIILIpCAAggApgjIFwuOMIY+BMIQi1hEIg5RCEIIAhCBEMQgDgEJTIQiF9NgRzlf0h1nTAILKOBABOxKTV4yIAMmCEIaInELXxBDGctIhjGGAYxe5AIXuLhFLn5x2rL/0INaMIEHObDxijrwgJEGcKIENjCCE6zgBTowghTU4IhZVGMb4TDHOcoxDnBwAxu1iQY0oEENbHCjHO7Ax0z4EY5jsMIQWmiBAhBQgAFUwAVGyMIY3IAHQCDiEZ+whTN4s453vKMd7FCHOcThDW5oAxvY2IY3wpGOeORjJvuQhioC4QUfeICiYhqBEuDwCFDAIhjFSEYzqOENdMiDHpG5hz3qQQ94sAMd5hhHOMAhDnKYox3zMJg58UEMSGxhByeQgAAOwAAI3AANmPCFNMyhM4XkpB7vELCMwcEbdcADhqeMUzxyIQgltKADDjCABl4wBDM0ghbSAKBaD5IWe5wj/xvKKMYwhFGMaHTDylheayrV8Qo65MAD0kxAC6Rgh0rIAho3rkdJFSMPbQhDFaQYhShS8YuRXnnNLNEHZsZRijOk4AEKKEADglCHVBADG5KN3kFOao92MGMViyDEIAbhCFYoAx2Xhsk91MENZkxCCyH40gEisIRC/MK2C8FHi9Uhjm044xWQgIMapm0HS9SiGuFoh3hfMg9vICMWf2jCBuKYAAtQIRLOGEc77uFkeaQDHNQwRi5Q0Qg5XEEKU5jCF/zQCV48Qxz0gMk7pEELS6wBCBbAJwM4wIVOeOPKOmbzPtjhjWf4QhWXGAQbquADHeyAB0gwQyFG0YtrxAMm7P9QBioK8YUcTAABDIiACMZAinLUAx+YXgpb0YGNCHkiEXT4QhJo8AIXtMAGUnCDIlbBjHbApB3LSMUhwrCDCixAAhhQgRlE0Q13yGNt0VOMPdChjWZ86BOOsIMXjrADFrmACFl4wyV+gY6nL0MViBBDD0YIvhmkARTWuPE8JEMttloFHd2QBjJ+MR5HzCELvVKBCWpQBCoMYhbkKGlJXL0KRZDBBxmQQAdQsAM2eOIZ3zjHOyKjo5/Q5R3nAAc2pvGMZQijFIhYAxV8gALXwUAHbzjFN3C7knhkIxipUAQbnCAEIQQhCW+oxC6WUQ1vmGMdV76HWxwUD3ekgxzeoA3/w0hBiDI04QYiuECyXmCGUHCDVCwZO5xn0QlD2CENW7hCHBhxClsEoxnXkHrvEA/zUA/1IA//pQ7oIBvXAA3CAAp+wAVEAAMboFEeUAJewAnZkDOaJxL7YA/xsA6b8Qup8Ah2UAZ0MAiTEAquwAvIMA3ekA7s8A7yIA/w0A7rsA7sACTGEQycgAdTwAMoIE0PUAEbcAWWYA1pdUrzoA7gsAywQAmAYAiMMAmeoAq2IAwAKA7lYA4wFg7ccA3bQGXfMA3HYAuTAAdMYAMjEAEGsAAQUAFOsAjIkA7wwG4wYQ/wwGvJYAuo8Ieo0Aq1wAvDwAzUUBwHFg3GoAuwoAvF/1B7vzALo0AIZoAENCACEdBNOUUEeeAK0fANhwETcbJp2QANyTAMvdALv0BnygAN1RANzYAMvaAKmJAImaAKuoALq+AJj1AHXDAEMRACENBNDPAAOoAGlYALz7AaHRg6bOUd3QCLyoAMyKAMzQANyAAMuIAKkIAHY4AHjhBplpAIemAGUuADLvABw1hTMHAFfhAKv+AN+6BqLaEYsOcN25AN2HAN/IgNyGALpRAJe0AGUPAFb+AHfCAHZ8AFTgAEMmACGhBmaKQALkAFetAJvdAN9FiPU/EaAZYO52AO5CAO33AMrSAJe2AGR2IET3AFVuAERuADdmMC0bQAlRRJK/8QBXegCbzQDcRHUGqxGB55DsYwCn9ABlHQAyvQAi8QAy+gAiUAAh4wPBXgVBhWACjgBHNwCbrADc0IEx94FW+DB1ywBDogeazTARlQAVzDNQ+wAAdgSwRQAknQBpFgC9qgFGw2SPKwDKFwB1vQBD8QAyogAo0jAQ9AKZSyXu21TSJABGWQCLGADXq5avlwD84gCnawBU9ABDnQAiFQlUgUIAHiSLgUIyDgA10gCKxgDZXJZvxADamAOFxABWaZAhlALwgwJkykTWQSAkDgBYPQmq/JZuEwDKUwCY1gCH+QBlIgP6H5RrFkUffiADKgBYFACsIQDsV5EO3QDcwgDL7/kAuzcAl78AVIwIYU8JYCYgAFcAANIAEXQARzMAqntg7daRBx4hju8GLGQAqCUAZLEAMbUJVgEiAKIAEZEAJV0AjFAF72kJ8SFxT1oA2/QAqMUAdfsAQ/MAOikQIsADtGAAV8kArXcGUPJqFSsUXocA3GYAumYAmGMAdfwARNMAVZIAZw0AeKgArGYHM4p6II4RP14A7o8A3W0AzAYAqMIAd04AeHMAmkQAvEMA3jIA/wJ6QKEZbo0AyyYAmZMAquMH3bsA7xYA85p6VDOkjv0A3KgAu5EAzIAA3bYA7xcHNfqaaG1w7jkA2bIw7mwA5fF0hqGhE/MY9yUaiKuqiMGtqojvqokBqpkjqplFqplnqpmJqpmrqpJREQACH5BAhkAAAALAAAAABgAGAAh/39/fz8/Pv7+/r6+vn5+fj4+Pf39/b29vX19fT09PPz8/Ly8vHx8fDw8O/v7+7u7u3t7ezs7Ovr6+rq6unp6ejo6Ofn5+bm5uXl5eTk5OPj4+Li4uHh4eDg4N/f397e3t3d3dzc3Nvb29ra2tnZ2djY2NfX19bW1tXV1dTU1NPT09LS0tHR0dDQ0M/Pz87Ozs3NzczMzMvLy8rKysnJycjIyMfHx8bGxsXFxcTExMPDw8LCwsHBwcDAwL+/v76+vr29vby8vLu7u7q6urm5ubi4uLe3t7a2trW1tbS0tLOzs7KysrGxsbCwsK+vr66urq2traysrKurq6qqqqmpqaioqKenp6ampqWlpaSkpKOjo6KioqGhoaCgoJ+fn56enp2dnZycnJubm5qampmZmZiYmJeXl5aWlpWVlZSUlJOTk5KSkpGRkZCQkI+Pj46Ojo2NjYyMjIuLi4qKiomJiYiIiIeHh4aGhoWFhYSEhIODg4KCgoGBgYCAgH9/f35+fn19fXx8fHt7e3p6enl5eXh4eHd3d3Z2dnV1dXR0dHNzc3JycnFxcXBwcG9vb25ubm1tbWxsbGtra2pqamlpaWhoaGdnZ2ZmZmVlZWRkZGNjY2JiYmFhYWBgYF9fX15eXl1dXVxcXFtbW1paWllZWVhYWFdXV1ZWVlVVVVRUVFNTU1JSUlFRUVBQUE9PT05OTk1NTUxMTEtLS0pKSklJSUhISEdHR0ZGRkVFRURERENDQ0JCQkFBQUBAQD8/Pz4+Pj09PTw8PDs7Ozo6Ojk5OTg4ODc3NzY2NjU1NTQ0NDMzMzIyMjExMTAwMC8vLy4uLi0tLSwsLCsrKyoqKikpKSgoKCcnJyYmJiUlJSQkJCMjIyIiIiEhISAgIB8fHx4eHh0dHRwcHBsbGxoaGhkZGRgYGBcXFxYWFhUVFRQUFBMTExISEhERERAQEA8PDw4ODg0NDQwMDAsLCwoKCgkJCQgICAcHBwYGBgUFBQQEBAMDAwICAgEBAQAAAAAAAAAAAAj/APsJHEiwoMGDCBMqXMiwocOHECNKnEixosWLGDNq3Mixo8ePIEOKHEmypMmTKFOqXMmypcuXMB3y45fvHr136MJt48atW7hz7OLVyxeT4z59+OKlEyet16lLmTRxSpUrGTZy8PYVzchPn0103KDVkuRmShUsWuAwOvVrmjl9/LZe3HdvnrtuzXhdOoNjggUNHXaAKWQqGLd7+vbNnCnXoVd67cRdY2Yr1KI2S1A4iOD3RZM1iU4VG3cOnbp17dzBo4cvbmOESdd9y6vqUR0tQ1xkSLCgwQMROqS0aeTK2TRr2LZ1Azdu3Tx9rxHWWycuWi5Qh9AkUZEhggICBQwg/7BwAgeUOZd0ARtmTJkzadfEtSMafSC/ffnQWSPmylKfMkq8QEECBhAgwADhQcABCjpgYQclmXDyCSmrxJILM9/Ik5hrjdFkzzzX4KIJIGtYEQQMHjRQ4AADECCeAxV0kAIPUJCBxhptzNGHIZG4skw69eCj1Wv83CNPO8VsAocUQbzggQUOFMAiiwUckAADD0hwQQgq0HBDDjsI4YQWaECCCzhCQfeaPvGgAw4sfiyxQgcPCCBAAAEIUKUCDUAwAQUVVGABBhpw4AEIIqRwAxFUBOLKNu7QQ19j9oTTTC6PkJHDBxUscCABBCxAQQcluGCDD0Qg0UQUVFyhRRdgjP+Rho6JoHKMOfPcM6Rc/MQTjSxkKXGCBAwYEICLCEwwggxBOMHFrHwUwggklGDCCSikpAKLLb448w08+MBFJDvBWLJGEzFQIOWdBSDAAAcyINHFG4JQMgosvSDDTDTWbANOOemw8448QSq2Zj3wcMNKH07cIAIDnxoggYw8ULFGIJKIMssvylTjjTgAtyNUuBzWNx04yFhSxgwjVICAnu6KcAMTY+wxSSq1COOMNd2Qow477sQzjz3hGlyfQPGEEw0tgDCBwQMJDCDAAQxMIEMUcCgiyi7QYBOOOkHTY889+OSzYclHs1ONL56skcMBUgdwwAQgtPBEHJK0Mkw268D/Y8+uRzNETjGlCJLFCwWCR0EMT6xBCCe1HGNNOSOjHThC/HRTSyNnGFECqFaKAIUfVCFzTTjpxHNPPoBfjjk/1ZRCBxM0cIBgAg284EYr57QzTz6Mud7QY8xkcgYQLGBQwAQl2IAFI8Cs1prwMt0TDzvCPLIFDSVYcMAIQoRBiCrR1IOY5dQfxA897JCDCyFPpODBBAjI8EUjsCQjjtlGp6/QPvJAhzdm4YckkGADEkhADcxgCVsYoxrjCIc3uLENbVhQGzvpxjfAEY4OhgMd8NAV+mKyj3iYYxuw6EMSSoDABLjACn64BChUIYtVjGITl6jEJCRBCah0IhSkOIUQ/1HRC2qoY3WtK8o+4EGObLiCDyvkwAQSYAIjmAEPe/iDIOqAhi1QAQpMUIITpGAFLsiqDW5wwxskgYtuyMMeamrMPtwRDmqoIg9IKAEHEugBGzghC1eoApNQVAEIKAABDZAABkCAghjc4AY4wAEaNuGMdaiOSPb4xjFekQgw3GADFGjAAciDgx/4gAc6cEEIKuCABRygALiLwAU8QAIU2BIFTrDDJ3jxjHC8EXgxuY88oNEKRaQBCSeAAAMQUIAGbMkEJRiBCDQwgWWuSDwLeMAELqCBDGAAAzOIwhscwYploOMd9UiiSu6TD3cEYxJlQMILLFAAAkitXQtgwAIUkP+AV8YNTwcKDwIUsM9+ZoAFQPiCImrhjXPEI44t0Yc95EEOWQTiCTUQgQPwBNAWhcdKDqCABj5AghS0wAUwiIEMZkCDGKQgBBkowQyAkIU+gGIY1DDHPWByj3eYoxqkkEMQVLCBBXA0AC0SDwMgUAESzEAIUHgWHeyABz3s4ap1GAMUfHCEKHBBDXtghCd0cY15wKQe6NiGMSpBhhmAYEBHRRDVJqAB4EhBDYCohCp20Yv1DOOvuOAEIMaABjjcQQ95uEMeQIGMd7hkJvH4hjNsYYgrnOACEEjARxEZgQpwoFQ5sAIdIsGKYnhjaMCbyRyZoQpEHCIRiyDEHMZwhUT/6IIdLekKPtIhDV18og5MEAEGLjCoDowABTYgghS6UIY22EERn5hFMa6BDqKJaybz2AYxWNGJRwQiDmBwghD0IAt1tGQf+KhHOIhxCkSQIQgdyIAHRtAlHyDhC3d4xCdMwYpZ+KJj30CHPFhXMnyooxvQmEUl8PAFJuSABWpIxTlako+JauMWk4jDFGxAqBLAgAdLyAIaEKEKZoDDHH2Th9iKpr6a0CMZnHBDE3JAAgtsARTloDA94LENX4CCEHDgQhKYYIUwrOEOg3iEKowhjjdClCEzwUYsFpGGJbTAAlrwhDj6hxJ83AQcyqiFKDIRCUQwghKbGAUNc6GMbbDD/x6sk0g5liGLSJzBBxzogie+QTKV4MMu5LiGMtZTDH3xSxvLGUc6Qsjlh8ijHNnIBfxEAAZPdKNgfr7JUrbhtXT8coQU8co8pnEJLZigC5RYBjnaYQ+ViPod6zCHz/zW543gxx7XyAQXTOCEO+xyGuoInkl0aw96xAMeqG00RtipDU54wQQ0ncMk2rihlCwG1BzJnCfAYIIY8MAIa/BENMyGbf8lpBvbNsEKYFCD2u6CHOygR7nNbRB0g6EE+C4BEehQCmd0gx1PpvdC7F0CEGigAjEAwyNw4YxxTErgDPFGKMagAhBcwAEmkIIfCtMNfEDcId8ohRpmcAINOGAES/+YQyZwcY2dfpwh4UhFHHjQAg88AAREQMMiXiGNVr9cIfwIByvuQIQZhOABHegBF/xQimbU4+cIubU2SOEGHayAAw0AZxPYkAljmBXqBskHwqSxCTLAgAQXEFUKfJAFRvwiHmA3iPXUsYxJbMEEe0TAAz7wgiP8ARfwmHf67qMPdngDGnBiQgegdAAHdIAFROiDLd4h7Jd3xSbcGIYqEiEGHRRyAQVwAN+RAIhbUF7wriuSPNzBDFQQYgxFQAED+kmAB4RgBkwYRC7eoeyiqFYfNbFHPepBD3rMQx7yiIfycSKObdBCEWAIQvLqaU8IlEAHVUgEL7KC+pMQ3svwoE7/NqLBjGUk4xjD+MUucoGLW8yCFaTgxB/CMIQWfCACHi3ABWbwBDdowhjy0H3eJ2rrQA7cwAy8sAqkEAqeoAmTEFuB8Ad9gAdvYAZcsAQ5UHIRkAACAB4H4AFBQAaHwArQ8HSvgV714A7jkA3NUAueYAh7cAdz4AZjgAVNgARGMAQ9IAMosHiGVCACAAADYAAJUAJPsFi9oA0u1xiipg7bgIChUAhq0AVZUAVQYAQ9MAMv0AIqYAIdQAGzZwBxAwAA0HgVQANg0Ai0sAz7Ex0SJQ/mMA2/sAqN4AZPIAQ+sAM2AAMpIAIf0AEbcAESIErrclRZRwJFMAeMhQ3pEHAx/yF28SAOyzALmoAHV1ADJzACIBBfFRABD9AAC9BPBWAnAUCGACUBIiADVlAItLAN5pAVblgP8TAOk6gJeqAFVlcCH6ABFAA1B7AipJhUCeAAE4ABK9ADd8MJxrBo9iCAJ4GC7MANy7ALpfAIedBFTQAEMSACE+AADcAA/IQAVCMBGUACNFAEVVAGdWAInrAL2CA99cFO7EMO2/AMw3ALpQAJe1AGTVA7FkABEyABEOAADGABILACPqAFdiAJoOAKvLAM2qAOcKZOHcJO91AP4mAMqUBlR1ACHcABG5AB/xgBH+ACPZAFgYAKzqAN5iAPtWZu99EO2CAMrDAJegAGWm6QBYBUBVMgBVxwBnJwCKQgDA31Dq3hjFsxE/RwDtrQDL7gCp/ACZuwCZqQCZdgCZ2gZraADNrQN/UgLi/3hu2ADuPgDd1wljyxDcrxDeJgDuwgD0iElHE3l3RZl3Z5l3iZl3q5l3zZl375lyQREAAh+QQIZAAAACwAAAAAYABgAIf+/v79/f38/Pz7+/v6+vr5+fn4+Pj39/f29vb19fX09PTz8/Py8vLx8fHw8PDv7+/u7u7t7e3s7Ozr6+vq6urp6eno6Ojn5+fm5ubl5eXk5OTj4+Pi4uLh4eHg4ODf39/e3t7d3d3c3Nzb29va2trZ2dnY2NjX19fW1tbV1dXU1NTT09PS0tLR0dHQ0NDPz8/Ozs7Nzc3MzMzLy8vKysrJycnIyMjHx8fGxsbFxcXExMTDw8PCwsLBwcHAwMC/v7++vr69vb28vLy7u7u6urq5ubm4uLi3t7e2tra1tbW0tLSzs7OysrKxsbGwsLCvr6+urq6tra2srKyrq6uqqqqpqamoqKinp6empqalpaWkpKSjo6OhoaGgoKCfn5+enp6dnZ2cnJybm5uampqZmZmYmJiXl5eWlpaVlZWUlJSTk5OSkpKRkZGQkJCPj4+Ojo6NjY2MjIyLi4uKioqJiYmIiIiHh4eGhoaFhYWEhISDg4OCgoKBgYGAgIB/f39+fn59fX18fHx7e3t6enp5eXl4eHh3d3d2dnZ1dXVzc3NycnJxcXFwcHBvb29ubm5tbW1sbGxra2tqamppaWloaGhnZ2dmZmZlZWVkZGRjY2NiYmJhYWFgYGBfX19eXl5dXV1cXFxbW1taWlpZWVlYWFhXV1dWVlZVVVVUVFRTU1NSUlJRUVFQUFBPT09OTk5NTU1MTExLS0tKSkpJSUlISEhHR0dGRkZFRUVERERDQ0NCQkJBQUFAQEA/Pz8+Pj49PT08PDw7Ozs6Ojo5OTk4ODg3Nzc2NjY1NTU0NDQyMjIxMTEwMDAvLy8uLi4tLS0sLCwrKysqKiopKSkoKCgnJycmJiYlJSUkJCQjIyMiIiIhISEgICAfHx8eHh4dHR0cHBwbGxsaGhoZGRkYGBgXFxcWFhYVFRUUFBQTExMSEhIREREQEBAPDw8ODg4NDQ0MDAwLCwsKCgoJCQkICAgHBwcGBgYFBQUEBAQDAwMCAgIBAQEAAAAAAAAAAAAAAAAAAAAI/wD3CRxIsKDBgwgTKlzIsKHDhxAjSpxIsaLFixgzatzIsaPHjyBDihxJsqTJkyhTqlzJsqXLlzA94rNHj924bddy5sSG7Vu6eTE95pPHrlwzWpscKXX0KNIkU8TC5dMXdCM+duGsvSq0xYhXI0mWOHHzCdq9qVUz1itXzRgkLB4CyBVQIAGDHH2A1TubtiI+eu/GJYNlqY2QC3LlEjCQoMYdXe7k2etLsR47ctJcKTqjpAWExAEGLI4hZ9a5dvSoUo4or1y2YJPK4DhxAQHoAAIGsGDDCly6eKpXL9QnT924acNkYYKTBESFBgUASA9dAIGMOLDGqZMXXHjCe+Og9f86BWnPmCQvKjhAMEA6gAAHGEjgsSfXOnj1uns/SK+arUt7fEGECyJUkIABBAjgXgAKTMDBEYUIM489+OyHkD730KOOMJrIMUUNFwwgwG25VVeBCDBoIQkz+uhn4UCtXVOMJ3hIkUMJEAgw4lwDIBCBBiXwMEUaisyijYsvCrSONLp8socVMTiXAGgCEFDAAx/AEEQYgoTCizTpJIkQOcF0oscVNEBwQIKgDWBiC0V0gUgs2rQjzz1iEhQYNr5skkcWPohwQJsGICBBByjoMAUbhqCSzDr45JPnQPqAc0wrkMQxxQ0mWFBAYgLEF0EJOkBhBiCYxHIMN8AhaWE+0KT/IogYSLRgwQMJ7BjaAhNskAMWd0jCSjHclOMOnpNiSE87vTDChQ8oSMAjAg5QwEEJLuCARR6b3NIMOVO5ul896XTzTChzFKHCBgwEsFgCHNDAhBdmvHEHI6Ps0gw367Q46UDxcINMLIVkwcIFDwxqwAIPxKDFIJ+c8ootwjSTzTjrAPXvQO08I8skafxAAZsCIPCABUUAoks46LyzV6T+boxhPeHoMkkbTrjQgGgFLCCCDlHcMYoz7MRjj7h53jPPO9SQUscRMniQwACMVeCDGY6wYgw48tRT4cYG1fMOOsg4YgUIFzRAAAEJOOBBFiv6Jg/MYBPUYjveQNOKHT8s/4BAAXQtMOoZqfRb90H64HNPN8OcQogWLxxQwAABFNAABSikkUo6+CA9aT40OWOKH1v4AAIBIgZgwAMXsKBGKuic5XmS+tgjjzu+JGIFDSJE4B4AB0CggQtrnDLOhJIeLhA93iRTiyNm/EACBgz8bkADFZygxSK+TBPOO2gd7g4yofDxxRAnqHfA7z1H8AEScGBSSzPlUDi7d+jEoscQMHzwAIIKck+PGnABG1RhDpXIBTeQdzhylMIMJ8jAAz51G9UxYAIdkMERuMAHTwQDG9wIRznYMbc86SMf4fhEFzgQAQUQgEQCSAAFPqACGwihCWQAxCYm1gtiTON4YjohPv+8kQkrQOBvusLNAAbQAA6sAAc64IEPnCAGOxjiEZkQxS6o4Y4gzmQblXgCAnSlIzcdIAEWUIEPmoCEIfigCFDYAhnccIdAgEIY49hL8ryTjwxlgxJPmNqIqnQABUQAAx+QQRPOwAc94OEOcEhDGLpAyS50EBjWEIc7YraafNRDHteYxBNcSLkBiKoDKaiBE94ACVWwwhWv2MQg0mCFJgxBB1nQwyZw0Yxx0G01f4FHNSTxhAVMzl0KgMAFUJADJaQhErrIhjfGgY5jcCIOT+BBCixAgyvgIRO5yMY9OiccT8pDG50IAwkyIAGGeaAFPHACGOTQCFc4Ix12soc2bBH/iThk4QclwMETyDAIVDija+SkTOLsEQ5W4GEIMygBBjxwAyigYQ+NAAUtkvENeMzDa+eAhi5AEYgwDOEIT7DCGzJBjKLlRzgnRAcvHBEGJuCABCyAghwmcQpdNEMb5XjHOKcyD3WEwxmqKMQXrvCEI2whEbowBzvmscfVvEMZjmsDFoSghDdQAhfJ0AY76MEXg7gjGaUIRBqmwAMk2IEUz+BGOpAlnHloYxiq2AQj/kAITtjCYuWIxziRJI9sAOMUg/BCDm6Qy11SIx77uYc6vBGNZAhjF75QxjXIoQ542CN8BrlHOrbRjE6kwQYm2IGpJPGLdVioRfnAh+KGykmF//SxHreowwwq4AETyMANqjCH8hoixFzYQQYSsMAGSEAGUpBjuMTNhy7sEAMIRGACGeACKMYBXeJONwYNYIACHGCFTYijuw3RRR1gsIADIUAKmQgHehmiCzq4QAGSQ0AU4jvfheRiDi1AAIIOsF/59tcgsMVFHFYgOVNGARMGPvBA8hEP45ziDCYoAOr0C2EJE8Qe6NAGMyzBBRGsjW0PBoeHBzKPbyjjFoaQQgdEwzYpYAIc94vJCUFrkNjaIx7rMMdrUAEJNADhArkhgAKicAlvROpFC7UfQmznDnFMwxizuAQfwKCuByR5yZXYxl5y3BLQzYOBCJ5HUaTBC1Mwwv8NT3hBCChwgC9DYRLXkExVFTqPdZBDHObApzveAQ94vMMdNtFGNJpUiDMgAQV/o1yVrheFSVgjHl4TzkzowQ28fkIUpkjFK2qxC13YQhatIMUmJCGIN3ABCTLggAFSN8ALZAET2UBzX2p3O2NoAg5c+IIYzACHPRSCEH2ogxvKwIUqKOEHNEABByDApsphLwRg8EQ3xtzJebTjHK+Qgw0ywAEPiEAGQYDCE4iQAxeYoAMViIAD/DZr0BggAh1gARpIAQ7Zdfvbq2ADCxjQAAdAgAOppMEKRJCBCTAAQakDlWgeYIIeVKEQtjDHkztJD3egoxVueMEDwrsACWggBCD/2EAFIMAABCQoiSU6gAZ+IIZGKaMdtU2LPgCTjlfEYQYRaIB7F9CABrS3wUnEDV0QsAATXAERt1jGNzQG03rAgx24CIQSVmCClF+AAhAwuoALoOFCLcABydWAuU0wBDuoQhvkcMfXYJqheDQDFYNwQxrI4IUpHGEHMDiBBywwgbBTwAMomEEQnsCFMJhhDX8IRTFGKI89U8bH4elFLFhxilA0Ig9koAIRaHCCEHDgAiOgQRGy8IZDdIIUot4FMzo6j3uQ+SULXdo6yoGMVTjCDmBQwg1egAIQyEAJYehDJ3zhjdPUPqFgM7M7skEMV3BiEXtowxnEwIU07IERochFUjQ6Sw/Ly2zT59BGM4SBC1eYQhSf4MQoXJGLYkxDHPEg6+29A1urswMd5RAO39AN3LAN3iBC6eAO8/BLK9aADviAEBiBEjiBFFiBFniBGHg4AQEAIfkECGQAAAAsAAAAAGAAYACH/f39/Pz8+/v7+vr6+fn5+Pj49/f39vb29fX19PT08/Pz8vLy8fHx8PDw7+/v7u7u7e3t7Ozs6+vr6urq6enp6Ojo5+fn5ubm5eXl5OTk4+Pj4uLi4eHh4ODg39/f3t7e3d3d3Nzc29vb2tra2dnZ2NjY19fX1tbW1dXV1NTU09PT0tLS0dHR0NDQz8/Pzs7Ozc3NzMzMy8vLysrKycnJyMjIx8fHxsbGxcXFxMTEw8PDwsLCwcHBwMDAv7+/vr6+vb29vLy8u7u7urq6ubm5uLi4t7e3tra2tbW1tLS0s7OzsrKysbGxsLCwr6+vrq6ura2trKysq6urqqqqqampqKiop6enpqampaWlpKSko6OjoqKioaGhoKCgn5+fnp6enZ2dnJycm5ubmpqamZmZmJiYl5eXlpaWlZWVlJSUk5OTkpKSkZGRkJCQj4+Pjo6OjY2NjIyMi4uLioqKiYmJiIiIh4eHhoaGhYWFhISEg4ODgoKCgYGBgICAf39/fn5+fX19fHx8e3t7enp6eXl5eHh4d3d3dnZ2dXV1dHR0c3NzcnJycXFxcHBwb29vbm5ubW1tbGxsa2trampqaWlpaGhoZ2dnZmZmZWVlZGRkY2NjYmJiYWFhYGBgX19fXl5eXV1dXFxcW1tbWlpaWVlZWFhYV1dXVlZWVVVVVFRUU1NTUlJSUVFRUFBQT09PTk5OTU1NTExMS0tLSkpKSUlJSEhIR0dHRkZGRUVFREREQ0NDQkJCQUFBQEBAPz8/Pj4+PT09PDw8Ozs7Ojo6OTk5ODg4Nzc3NjY2NTU1NDQ0MzMzMjIyMTExLy8vLi4uLS0tLCwsKysrKioqKSkpKCgoJycnJiYmJSUlJCQkIyMjIiIiISEhICAgHx8fHh4eHR0dHBwcGxsbGhoaGRkZGBgYFxcXFhYWFRUVFBQUExMTEhISEREREBAQDw8PDg4ODQ0NDAwMCwsLCgoKCQkJCAgIBwcHBgYGBQUFBAQEAwMDAgICAQEBAAAAAAAAAAAAAAAACP8A+QkcSLCgwYMIEypcyLDhwH37HEqcSLGiQ4gWM2rcyLGjx48gQ4ocSbKkyZMoU6pcybKly5cJ9+WLhw7cNWfGfvnipUtXrp+6dvV6Fm6evogwQe7TZ4+cNGGvOinqk6eOnDhwssqhg8cTsXT4jib9qC+fPGy+Rh1S40QHjRcpUJwwcUIFixltTn2zhw/pWIb45r1bd24cuMPgumm79oxWJj9iiqSo8EABgQECAggocOBBlEnU3tHL95fhvnfhqCHrJeuU61OiNlFahMfMFCAtNjRQYABzAAABBhRgoCQRsnHs6pVWuLTcs1ylJP1x06a6mS1RjvCQgeKDhQYGLgf/+A0AgIABCIgA2oWtnLzlAiEuLYvvXr1suzoFQvPkxg0bNrTwgQQHFCBAeQhqNsAABBBQQAEGKCBEHrE48807Yy2Vzz3xsHNOONxcA40ywugyiiJxcKEEDnKZYAIIFjBQAGbmEWAAAxiUEEMOQSTRRBNMPHHHJ8dwg848Y+mDTz3xnMONNMn8QksqmjDixxpYFHEDCyJgcMEFFkjQwAG+AUAAAg1gAMMRXrzhhyOVUDLJJKwU04068dwzVj72yMMON8388gookQCyhhVC0HCCBhE4sAACCBxgwIwHImhAAxOQcIQajJDCizTcaIONNeCkMw8++fiVkkz4xLMOOdxQ/8PMMLSUYgkierCh4g0kbCBBAg0G+6ABxB6AQAIJUBCCC0OcoUgrxGDjjn3zxFNPXy7tcw898IADTTCxiDIJIXm0IQYWTxjBAwwkYCABA+E5aAACCjDgwAMQSECBBRik8EMVbSySyjHVkDNPPvjYU889+rykDz3voOOMLZwU8kYWRvhggwspkADCBhZEsEAC8UJ4wAIPTMCvBh2AMIIJPnSxByawIPMNOvDcM18+YrmEzzvmcLOLJnlwIUQKE1RWwGWZCeD0ecIhsIADE2DQsggkmKCCCzI8QQcmtizzzTz3pLrcPOJA40snfGghBAwd7HYA000vyFkCDlTQQQkosP/wwgstsLACDDTgIEUckLBCDDf0lK1qUu9Qswsof3TBAwodRIBAeE6Pp5mDUjtgwQgw8OADEEL8kMMMMNSgww9UuIGIKL5kQ09Y8KmDTCmCgPFDBw4oYKDnxDMYYcoewCDEFFNQQYUTRezgOhBFWLEGIJjcYk09PP8l0z3h5PLIGUu4QODwmgng4AEKRHCBBySk8MIOTXwBx1Z2yLEGGWCUocYbfWDEJlxhDG8w7HEuyQeTsJEKPTThBiJoANMUdCaUje4FPBiCEqLQBTf8ARKTuMQmNoEJS1RCE58gBStsAQxmaEMdqUJgSzjEDmdoogwzIIEFDpCZ8QjnZO4LAQ3/jqCFMaxhDn94xCdeUYtdBIMYxkCGMpwhjWtsAxzkSMc76iFDl9TDHeY4hiOq4B0Jjuc8B2BABDRAAhfwQApn6EMhGlEJULiCF8l4RjW4EY5ypKMd1uJZF8dCj3WIIxiIcAIGIqCAAQTnTBPwQAp00AQwyGEQlDAFK2Rxi18gAxrZ8IY4zKGOdrxDHgvrGXwGIg90dGMXgThCBBjAw80coAEeeEEQtGCHSKCiFsKgYjWwwUdSmjIe86CHPcqmylUKJB7lwIYt9gAEBcwtOOyTgAqCkAU9fGIY3SjHtFClj6PIx5kNgYc4qBELPPggAQUSAAIk0IEVHIEMgOhELqiB/w530AMj6KyIO77xDFbUoQfwnJEDPgCDIpgBEan4RTTGAY/bDTKgCmkHN5iBCjnsAJ7hmcAKhuCFQrAiGqWSR1guitGEsEMbyjAFHHQQqfBYIAZMUMMkeEEOeHCvpRphxzZiCoccSGppFYDBEtIQiVx8gx0qBWpGhLoMmeZgUpehwAuUcAZH1GIb6cgZS6V6kJcmoxRuuMFlMCOBFtxTEbAoGDvoUc6xkjU+4TBGKgqRBRYsKDMOGAEOoBAHSdDCGNMIBzveMQ++CPKuB1mKNWChiDIMQQSdA4ACNJACHmChDpE4xS6e4Q1yqAMejV0pZAmiIWZsQg1GcMEFxlMeA/9AQAMn+MEV3pCIUfQClOFQhzvkYY/HrpYfSrpHMRyBBRqMQAI9BMBwJsABFwAhCmfwQyVM4Qpb+CIZ0uiGOdqhnOPyiR6/MAQTUsABCNCtAAp4QAVAsAIbEEEKYWBDHO7Ah0eQAhfK0MY6AErWfeCDHvHQRR+C4AELOACrUUPZBC6wgRCcoAUyqMENdGAFOkjCFcgIh3Glqi3B2OIOObjABIKHLHox4AGNGtlR5WWAEyzBDZCQxTRQiS0SL0keudADDzaQgQtUAAMa4IAIUkA4FYCgAhBgwOYmVQAPGA4OkqgFNcDBDnzcVR/24UUffgCCMofABIPTQRGicIUi0ED/BBmYAC2pTIES2AAKc6jELZgBjvKSGGG/AIQQSFCXFtCAB0SIghjkkIcwIOEFI8jAAxJKgAVMYAMwmIIdMnELarynwGVhhibQAIUoSIEKXTDDG/SAiEpw4hBz8MIUliAEHKygAxCIwL5MIAQv8EEUycAQqPOhjVxgwhCFIAQhGmGJT6AiFrnoBSxGYQlHIEIQdMDCDj6wAQ1gIAQ1QIIXHNELdtxVQ+nAxjF6kQtbzIIXxtBjNrrhjWxMoxnKMIYwYFEILbjgRUk+gQyCQCF0nHsp9HDHOcTRjWxUwxvnYCw96lEPesxDHvBwBzuygQo7FMEGKehABjwgghWoARXl/4AsRO4xD3cQhhzi6Kcy73GP+ijM4vEQhy4iQWodkCADG+jACMhAinE0E6hgrsfF4XHKa/GsnGVBGM3XsYxVLEINSlBBBjKAAQ504RPgGPFxHUIPbhTDFYXYAgw0ECYKXGETBjTb2BtSlnYwYxWKSAMSTFABCkigAlngxDdUO/eFGLgpuWhEGJIggw3kWgIY2IInwt6wwi+EKfLghinegAP2QgBlEtBAF0AhjqMnZR/zeJU4Vl8OdszDrg+BZjZ+oQgqfIAyCVAABC4ggjGQghywT8k9wKEMWrzCFd1lRjgOaBolieMYrGAEGXpAmQWczAIiiEEbVGGOVaK+GagQhP8e8pAHQ6ziGaeqvEKUZI9ppKIPWPBBCR5VIAZwgAU/wAMsDA6ffcCjF4pwBUuQBEiQBYvAC+3QWDEEEVCXDw64JPHgDsKQCFBwAhvwAE7DIIGFA04wCLegDt4nD8jgCXNwLk1ABd5UDM1QDd0QDofxDduADdTwDMpADL6AC7GAd2GQAxwwAQqgPuyjATUABWyACcPQDt5HD9IQC5CQB7bxBGkgCJvwS8FwDMdgDMXQC7bwCqWgCY9ACHoAB2YQBTkQAp9nAAFwIxFQAkeABs/iDPDgTPbQDcXACpCQbUpwBWVwSZRQCq3ACquQCp4wCbiiBlmQBDzwAnAmAcLjGwj/AAFqggWBgArCoA1Iskr3QA7Q0AucgAdU8ANFsARSAAZugmzJFoZmgAVJoAMr8AETgADicUYD8AAcoAJF4AaYIFHjYA/OhA/ocA3IIAp2sAQwIAM0cAM/kARScAVYkAVaMAVMoC4xYAIcQAENQCk+ZCMZ0AJCAAaG0ArS4A3r4GWrlA/s4A3RgAp1IAQh8AEewAEfIAJ8swIt8AIsgAIlAAJx1gAk00PjYSMJMAI+oAXeNAytZxTOlA/wEDSwoAdD4AEXAAEJtSDs0wAMwAAjEx60BRznUQALAAEVQANUUAeWYAvW0Dik4Uz6MA/sUA7CYAlrgAQ3wHdKYyP00mIF/+JIngNfDnABJlADRAAGfrAJtcAM4sBM6KQt8uAO0zALkjAHV8ADIHABDzA3JiMpk+IbGZgAa4QCuzQHjXAKwUAN4dAOYgcfZXEP5eAMudAJdyAFLPABFGAZwbJWvkFBDZABJZADXPAHoqALz2AOCghUDNgO3dAMuGAJdCAFP5AbEfAADFAvDfAAD2CRDcB7LJADR0AFZ0AIofALRCEPBNZSEDEP6OANzkALmvAHZbAEMRACHBAmFqAB7sgBGcABMoAEX+AmjdAJsDAM1RAO62APwfcXgfEO5SANwMAKi5AGRhADKRACGhACKOACLqACJ7ACTfAGkVAKtoBY20AO7axAXOqncg9zDtvgDK2QCGWQLhrjA0XwI0lQBEnwBpSQC83ADcOJO5a3cu5QDt1gDK5gCYYQCHtgB3sACIZgCIMQCITQCbbwDNxwDvFAeP2pD/UAD+zwDdJgDL6wC7hQC7nAC7+gE73wC8zQHuyQJ6Z3oRtScfQQo/WwTPhQo+Q0mpaHEBrigE9XnDlaEAwoHz76o0RapEZ6pEiapEq6pEzapE76pFAapVLapAEBADs=\"/>"
      ],
      "text/plain": [
       "<IPython.core.display.HTML object>"
      ]
     },
     "execution_count": 9,
     "metadata": {},
     "output_type": "execute_result"
    }
   ],
   "source": [
    "fake_images *= 255.0\n",
    "converted_images = fake_images.astype(np.uint8)\n",
    "converted_images = tf.image.resize(converted_images, (96, 96)).numpy().astype(np.uint8)\n",
    "imageio.mimsave(\"animation.gif\", converted_images, fps=1)\n",
    "embed.embed_file(\"animation.gif\")"
   ]
  },
  {
   "cell_type": "code",
   "execution_count": null,
   "id": "64e6fe5e",
   "metadata": {},
   "outputs": [],
   "source": []
  }
 ],
 "metadata": {
  "kernelspec": {
   "display_name": "Python 3 (ipykernel)",
   "language": "python",
   "name": "python3"
  },
  "language_info": {
   "codemirror_mode": {
    "name": "ipython",
    "version": 3
   },
   "file_extension": ".py",
   "mimetype": "text/x-python",
   "name": "python",
   "nbconvert_exporter": "python",
   "pygments_lexer": "ipython3",
   "version": "3.8.12"
  }
 },
 "nbformat": 4,
 "nbformat_minor": 5
}
